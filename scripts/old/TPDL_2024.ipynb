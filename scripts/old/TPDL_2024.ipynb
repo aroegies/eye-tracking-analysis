{
 "cells": [
  {
   "cell_type": "code",
   "execution_count": 13,
   "id": "8db3eea0-65f7-40cc-a0a8-efacc23f5801",
   "metadata": {},
   "outputs": [
    {
     "name": "stdout",
     "output_type": "stream",
     "text": [
      "The autoreload extension is already loaded. To reload it, use:\n",
      "  %reload_ext autoreload\n"
     ]
    }
   ],
   "source": [
    "%load_ext autoreload\n",
    "%autoreload 2\n",
    "    \n",
    "from path_analyzer import PathAnalyzer\n",
    "from saccade_analyzer import SaccadeAnalyzer, BoundingBox\n",
    "import numpy as np"
   ]
  },
  {
   "cell_type": "code",
   "execution_count": 14,
   "id": "c329000b-21a5-4bba-bee8-e5863fc76b2f",
   "metadata": {},
   "outputs": [
    {
     "name": "stdout",
     "output_type": "stream",
     "text": [
      "19\n"
     ]
    },
    {
     "data": {
      "text/plain": [
       "30"
      ]
     },
     "execution_count": 14,
     "metadata": {},
     "output_type": "execute_result"
    }
   ],
   "source": [
    "dlib_sa = SaccadeAnalyzer(xlsx_file=\"dlb-trial.xlsx\")\n",
    "len(dlib_sa._saccade_paths)"
   ]
  },
  {
   "cell_type": "code",
   "execution_count": 15,
   "id": "4eaa369e-55de-42f1-8055-af237032327f",
   "metadata": {},
   "outputs": [
    {
     "name": "stderr",
     "output_type": "stream",
     "text": [
      "/Users/aroegies/scanpath/lib/python3.9/site-packages/openpyxl/styles/stylesheet.py:226: UserWarning: Workbook contains no default style, apply openpyxl's default\n",
      "  warn(\"Workbook contains no default style, apply openpyxl's default\")\n"
     ]
    },
    {
     "name": "stdout",
     "output_type": "stream",
     "text": [
      "6\n",
      "26\n"
     ]
    }
   ],
   "source": [
    "europeana_sa = SaccadeAnalyzer(xlsx_file='europeana-trial.xlsx')"
   ]
  },
  {
   "cell_type": "markdown",
   "id": "505ec332-0f24-4ce3-9028-47977dd1c669",
   "metadata": {},
   "source": [
    "***"
   ]
  },
  {
   "cell_type": "markdown",
   "id": "1cb051a6-d7a5-43da-b982-1204f25f743c",
   "metadata": {},
   "source": [
    "## dLib Saccade Distance to Search Box Mean and Standard Deviation Per Session"
   ]
  },
  {
   "cell_type": "code",
   "execution_count": 115,
   "id": "468f7b7e-cca7-4952-8173-416b6603b769",
   "metadata": {},
   "outputs": [],
   "source": [
    "histo = dlib_sa.saccade_distance_to('Search box',ignore_self = True)"
   ]
  },
  {
   "cell_type": "code",
   "execution_count": 116,
   "id": "8450c709-fe27-4157-8558-eb7171b822c7",
   "metadata": {},
   "outputs": [
    {
     "name": "stdout",
     "output_type": "stream",
     "text": [
      "Session 0: 0.00 0.00\n",
      "Session 1: 0.00 0.00\n",
      "Session 2: 60.56 29.54\n",
      "Session 3: 274.10 193.69\n",
      "Session 4: 331.10 311.56\n",
      "Session 5: 584.97 149.63\n",
      "Session 6: 74.03 0.00\n",
      "Session 7: 396.24 294.30\n",
      "Session 8: 204.75 0.00\n",
      "Session 9: 583.82 0.00\n",
      "Session 10: 475.01 0.00\n",
      "Session 11: 113.82 47.14\n",
      "Session 12: 0.00 0.00\n",
      "Session 13: 184.78 176.49\n",
      "Session 14: 224.07 160.17\n",
      "Session 15: 404.90 348.78\n",
      "Session 16: 182.39 138.66\n",
      "Session 17: 175.12 199.55\n",
      "Session 18: 558.56 0.00\n",
      "Session 19: 0.00 0.00\n",
      "Session 20: 0.00 0.00\n",
      "Session 21: 207.14 118.53\n",
      "Session 22: 105.95 31.84\n",
      "Session 23: 144.37 0.00\n",
      "Session 24: 95.45 112.83\n",
      "Session 25: 177.95 168.56\n",
      "Session 26: 0.00 0.00\n",
      "Session 27: 0.00 0.00\n",
      "Session 28: 251.35 233.95\n",
      "Session 29: 68.13 41.44\n",
      "Mean of Mean: 195.95\n",
      "Mean # saccades: 2.70\n"
     ]
    }
   ],
   "source": [
    "means = []\n",
    "cmeans = []\n",
    "for idx, session in enumerate(histo):\n",
    "    means.append(np.mean(session) if len(session) > 0 else 0)\n",
    "    cmeans.append(len(session))\n",
    "    print(\"Session {0}: {1:.2f} {2:.2f}\".format(idx,np.mean(session) if len(session) > 0 else 0,np.std(session) if len(session)>0 else 0))\n",
    "print(\"Mean of Mean: {0:.2f}\".format(np.mean(means)))\n",
    "print(\"Mean # saccades: {0:.2f}\".format(np.mean(cmeans)))"
   ]
  },
  {
   "cell_type": "markdown",
   "id": "997ca4a9-040a-41a9-92d4-aa3e99f6d1a7",
   "metadata": {},
   "source": [
    "## Europeana Distance to Search Box Mean and Standard Deviation Per Session"
   ]
  },
  {
   "cell_type": "code",
   "execution_count": 117,
   "id": "31221dd9-abab-441b-809a-e23d7f9a2bb8",
   "metadata": {},
   "outputs": [],
   "source": [
    "eu_histo=europeana_sa.saccade_distance_to('AOI[Search box]Hit',ignore_self=True)"
   ]
  },
  {
   "cell_type": "code",
   "execution_count": 118,
   "id": "7ab5ed67-9d44-4463-8c58-58f8f2bd29cf",
   "metadata": {},
   "outputs": [
    {
     "name": "stdout",
     "output_type": "stream",
     "text": [
      "Session 0: 258.88 110.64\n",
      "Session 1: 406.55 232.74\n",
      "Session 2: 278.59 192.61\n",
      "Session 3: 265.99 93.91\n",
      "Session 4: 318.86 186.00\n",
      "Session 5: 280.63 148.67\n",
      "Session 6: 0.00 0.00\n",
      "Session 7: 56.75 0.00\n",
      "Session 8: 0.00 0.00\n",
      "Session 9: 355.86 141.63\n",
      "Session 10: 427.60 366.35\n",
      "Session 11: 219.12 98.37\n",
      "Session 12: 0.00 0.00\n",
      "Session 13: 82.06 16.38\n",
      "Session 14: 43.91 0.00\n",
      "Session 15: 232.82 168.76\n",
      "Session 16: 198.76 0.00\n",
      "Session 17: 232.87 252.42\n",
      "Session 18: 0.00 0.00\n",
      "Session 19: 0.00 0.00\n",
      "Session 20: 129.47 0.00\n",
      "Session 21: 625.85 67.19\n",
      "Session 22: 201.20 69.56\n",
      "Session 23: 196.80 164.02\n",
      "Session 24: 362.52 215.75\n",
      "Session 25: 35.06 0.00\n",
      "Session 26: 0.00 0.00\n",
      "Session 27: 151.22 122.08\n",
      "Session 28: 150.36 0.00\n",
      "Session 29: 390.06 211.68\n",
      "Mean of Mean: 196.73\n",
      "Mean # saccades: 3.97\n"
     ]
    }
   ],
   "source": [
    "means = []\n",
    "cmeans = []\n",
    "for idx, session in enumerate(eu_histo):\n",
    "    means.append(np.mean(session) if len(session) > 0 else 0)\n",
    "    cmeans.append(len(session))\n",
    "    print(\"Session {0}: {1:.2f} {2:.2f}\".format(idx,np.mean(session) if len(session) > 0 else 0,np.std(session) if len(session)>0 else 0))\n",
    "print(\"Mean of Mean: {0:.2f}\".format(np.mean(means)))\n",
    "print(\"Mean # saccades: {0:.2f}\".format(np.mean(cmeans)))"
   ]
  },
  {
   "cell_type": "markdown",
   "id": "0d083e33-b6ce-4c36-bbb6-2105316316e4",
   "metadata": {},
   "source": [
    "***"
   ]
  },
  {
   "cell_type": "markdown",
   "id": "510ceed3-60a9-48e7-ba5e-c369b7e83577",
   "metadata": {},
   "source": [
    "## dLib Saccade Path Statistics, Total Length, Mean and Standard Deviation Per Saccade"
   ]
  },
  {
   "cell_type": "code",
   "execution_count": 119,
   "id": "a6c3e035-5321-4625-90d7-71820b71da30",
   "metadata": {},
   "outputs": [
    {
     "name": "stdout",
     "output_type": "stream",
     "text": [
      "Session 0, Total: 1383.74; Mean: 98.84 (91.35)\n",
      "Session 1, Total: 41884.88; Mean: 207.35 (209.28)\n",
      "Session 2, Total: 1418.08; Mean: 64.46 (64.89)\n",
      "Session 3, Total: 2939.56; Mean: 127.81 (153.43)\n",
      "Session 4, Total: 4748.03; Mean: 139.65 (194.77)\n",
      "Session 5, Total: 5647.69; Mean: 148.62 (200.48)\n",
      "Session 6, Total: 2361.84; Mean: 107.36 (129.17)\n",
      "Session 7, Total: 19489.77; Mean: 232.02 (285.77)\n",
      "Session 8, Total: 1020.05; Mean: 145.72 (116.38)\n",
      "Session 9, Total: 2528.18; Mean: 252.82 (197.16)\n",
      "Session 10, Total: 935.21; Mean: 93.52 (133.63)\n",
      "Session 11, Total: 995.82; Mean: 71.13 (46.50)\n",
      "Session 12, Total: 80.31; Mean: 40.16 (0.16)\n",
      "Session 13, Total: 2060.64; Mean: 79.26 (87.80)\n",
      "Session 14, Total: 11878.68; Mean: 212.12 (197.54)\n",
      "Session 15, Total: 4803.09; Mean: 218.32 (240.83)\n",
      "Session 16, Total: 4421.29; Mean: 152.46 (149.19)\n",
      "Session 17, Total: 7395.18; Mean: 205.42 (220.55)\n",
      "Session 18, Total: 9708.41; Mean: 248.93 (223.40)\n",
      "Session 19, Total: 0.00; Mean: nan (nan)\n",
      "Session 20, Total: 3309.84; Mean: 206.87 (233.48)\n",
      "Session 21, Total: 3901.89; Mean: 216.77 (206.02)\n",
      "Session 22, Total: 18367.69; Mean: 241.68 (310.32)\n",
      "Session 23, Total: 902.41; Mean: 150.40 (149.05)\n",
      "Session 24, Total: 21660.03; Mean: 165.34 (198.21)\n",
      "Session 25, Total: 15924.70; Mean: 171.23 (182.97)\n",
      "Session 26, Total: 2244.97; Mean: 448.99 (211.23)\n",
      "Session 27, Total: 6886.19; Mean: 172.15 (162.15)\n",
      "Session 28, Total: 7708.94; Mean: 208.35 (175.70)\n",
      "Session 29, Total: 1441.03; Mean: 120.09 (115.57)\n"
     ]
    },
    {
     "name": "stderr",
     "output_type": "stream",
     "text": [
      "/Users/aroegies/scanpath/lib/python3.9/site-packages/numpy/core/fromnumeric.py:3504: RuntimeWarning: Mean of empty slice.\n",
      "  return _methods._mean(a, axis=axis, dtype=dtype,\n",
      "/Users/aroegies/scanpath/lib/python3.9/site-packages/numpy/core/_methods.py:129: RuntimeWarning: invalid value encountered in scalar divide\n",
      "  ret = ret.dtype.type(ret / rcount)\n",
      "/Users/aroegies/scanpath/lib/python3.9/site-packages/numpy/core/_methods.py:206: RuntimeWarning: Degrees of freedom <= 0 for slice\n",
      "  ret = _var(a, axis=axis, dtype=dtype, out=out, ddof=ddof,\n",
      "/Users/aroegies/scanpath/lib/python3.9/site-packages/numpy/core/_methods.py:163: RuntimeWarning: invalid value encountered in divide\n",
      "  arrmean = um.true_divide(arrmean, div, out=arrmean,\n",
      "/Users/aroegies/scanpath/lib/python3.9/site-packages/numpy/core/_methods.py:198: RuntimeWarning: invalid value encountered in scalar divide\n",
      "  ret = ret.dtype.type(ret / rcount)\n"
     ]
    }
   ],
   "source": [
    "dlib_stats = dlib_sa.saccade_path_stats()\n",
    "for d in dlib_stats:\n",
    "    print(\"Session {0}, Total: {1:.2f}; Mean: {2:.2f} ({3:.2f})\".format(d[0],d[1],d[2],d[3]))"
   ]
  },
  {
   "cell_type": "markdown",
   "id": "fc03e3fe-63a6-4c9a-bad5-69a802cce100",
   "metadata": {},
   "source": [
    "## Europeana Saccade Path Statistics, Total Length, Mean and Avg Per Saccade"
   ]
  },
  {
   "cell_type": "code",
   "execution_count": 120,
   "id": "d0ec4c19-3220-4f33-a4df-a9c463f7fc59",
   "metadata": {},
   "outputs": [
    {
     "name": "stdout",
     "output_type": "stream",
     "text": [
      "Session 0, Total: 26881.60; Mean: 215.05 (244.19)\n",
      "Session 1, Total: 5298.28; Mean: 203.78 (201.58)\n",
      "Session 2, Total: 12532.72; Mean: 189.89 (173.05)\n",
      "Session 3, Total: 2818.28; Mean: 156.57 (161.90)\n",
      "Session 4, Total: 14757.30; Mean: 150.58 (190.48)\n",
      "Session 5, Total: 6592.81; Mean: 263.71 (224.86)\n",
      "Session 6, Total: 0.00; Mean: nan (nan)\n",
      "Session 7, Total: 456.59; Mean: 41.51 (23.70)\n",
      "Session 8, Total: 2956.48; Mean: 173.91 (142.66)\n",
      "Session 9, Total: 3193.09; Mean: 212.87 (200.23)\n",
      "Session 10, Total: 14878.10; Mean: 212.54 (240.34)\n",
      "Session 11, Total: 2417.41; Mean: 127.23 (143.47)\n",
      "Session 12, Total: 10268.30; Mean: 250.45 (209.32)\n",
      "Session 13, Total: 1575.70; Mean: 50.83 (32.42)\n",
      "Session 14, Total: 1798.84; Mean: 149.90 (149.77)\n",
      "Session 15, Total: 6845.63; Mean: 207.44 (278.61)\n",
      "Session 16, Total: 751.51; Mean: 46.97 (45.01)\n",
      "Session 17, Total: 26019.16; Mean: 265.50 (228.54)\n",
      "Session 18, Total: 166.74; Mean: 55.58 (24.31)\n",
      "Session 19, Total: 3197.00; Mean: 168.26 (189.55)\n",
      "Session 20, Total: 535.72; Mean: 76.53 (69.65)\n",
      "Session 21, Total: 2457.66; Mean: 273.07 (253.23)\n",
      "Session 22, Total: 17170.00; Mean: 256.27 (262.49)\n",
      "Session 23, Total: 5691.38; Mean: 247.45 (216.71)\n",
      "Session 24, Total: 17242.22; Mean: 253.56 (252.31)\n",
      "Session 25, Total: 2331.34; Mean: 259.04 (227.11)\n",
      "Session 26, Total: 0.00; Mean: nan (nan)\n",
      "Session 27, Total: 7597.35; Mean: 194.80 (174.57)\n",
      "Session 28, Total: 653.75; Mean: 108.96 (74.18)\n",
      "Session 29, Total: 13673.61; Mean: 217.04 (182.29)\n"
     ]
    }
   ],
   "source": [
    "europeana_stats = europeana_sa.saccade_path_stats()\n",
    "for d in europeana_stats:\n",
    "    print(\"Session {0}, Total: {1:.2f}; Mean: {2:.2f} ({3:.2f})\".format(d[0],d[1],d[2],d[3]))"
   ]
  },
  {
   "cell_type": "markdown",
   "id": "ba79315b-1074-48a0-9651-a02cf3127416",
   "metadata": {},
   "source": [
    "## Mean (Standard Deviation) Total Path Length Across Europeana and dLib users"
   ]
  },
  {
   "cell_type": "code",
   "execution_count": 121,
   "id": "5dc010e4-95b2-43b7-be25-b9d495d472b6",
   "metadata": {},
   "outputs": [
    {
     "name": "stdout",
     "output_type": "stream",
     "text": [
      "Europeana: 7025.29 (7460.69) Dlib: 6934.94 (8777.39)\n",
      "Europeana: 179.62 dLib: 170.62\n",
      "Europeana: 199.29 dLib: 165.34\n"
     ]
    }
   ],
   "source": [
    "europeana_sum = []\n",
    "europeana_mean_means = []\n",
    "for d in europeana_stats:\n",
    "    europeana_sum.append(d[1])\n",
    "    if not np.isnan(d[2]):\n",
    "        europeana_mean_means.append(np.nan_to_num(d[2]))\n",
    "\n",
    "dlib_sum = []\n",
    "dlib_mean_means = []\n",
    "for d in dlib_stats:\n",
    "    dlib_sum.append(d[1])\n",
    "    if not np.isnan(d[2]):\n",
    "        dlib_mean_means.append(np.nan_to_num(d[2]))\n",
    "# Europeana: 7025.29 (7460.69) Dlib: 6711.23 (8721.16)\n",
    "\n",
    "print(\"Europeana: {0:.2f} ({1:.2f}) Dlib: {2:.2f} ({3:.2f})\".format(np.mean(europeana_sum),np.std(europeana_sum),np.mean(dlib_sum),np.std(dlib_sum)))\n",
    "print(\"Europeana: {0:.2f} dLib: {1:.2f}\".format(np.mean(europeana_mean_means),np.mean(dlib_mean_means)))\n",
    "print(\"Europeana: {0:.2f} dLib: {1:.2f}\".format(np.median(europeana_mean_means),np.median(dlib_mean_means)))"
   ]
  },
  {
   "cell_type": "markdown",
   "id": "a724f169-7683-478e-b246-7a8a8192157a",
   "metadata": {},
   "source": [
    "***"
   ]
  },
  {
   "cell_type": "markdown",
   "id": "30deba9a-7c3f-41bb-88f8-b806fb2ddf7e",
   "metadata": {},
   "source": [
    "## Europeana Participant Saccade Path Length and Number of Fixations"
   ]
  },
  {
   "cell_type": "code",
   "execution_count": 122,
   "id": "1669d819-152c-41cc-b5f4-96c229c55b37",
   "metadata": {},
   "outputs": [
    {
     "name": "stdout",
     "output_type": "stream",
     "text": [
      "Session 0, Participant 1| Total: 26881.60; Fixations: 126\n",
      "Session 1, Participant 2| Total: 5298.28; Fixations: 27\n",
      "Session 2, Participant 3| Total: 12532.72; Fixations: 67\n",
      "Session 3, Participant 4| Total: 2818.28; Fixations: 19\n",
      "Session 4, Participant 5| Total: 14757.30; Fixations: 99\n",
      "Session 5, Participant 6| Total: 6592.81; Fixations: 26\n",
      "Session 6, Participant 7| Total: 0.00; Fixations: 2\n",
      "Session 7, Participant 8| Total: 456.59; Fixations: 12\n",
      "Session 8, Participant 9| Total: 2956.48; Fixations: 18\n",
      "Session 9, Participant 10| Total: 3193.09; Fixations: 16\n",
      "Session 10, Participant 11| Total: 14878.10; Fixations: 71\n",
      "Session 11, Participant 12| Total: 2417.41; Fixations: 20\n",
      "Session 12, Participant 13| Total: 10268.30; Fixations: 42\n",
      "Session 13, Participant 14| Total: 1575.70; Fixations: 32\n",
      "Session 14, Participant 15| Total: 1798.84; Fixations: 13\n",
      "Session 15, Participant 16| Total: 6845.63; Fixations: 34\n",
      "Session 16, Participant 17| Total: 751.51; Fixations: 17\n",
      "Session 17, Participant 18| Total: 26019.16; Fixations: 99\n",
      "Session 18, Participant 19| Total: 166.74; Fixations: 4\n",
      "Session 19, Participant 20| Total: 3197.00; Fixations: 20\n",
      "Session 20, Participant 21| Total: 535.72; Fixations: 8\n",
      "Session 21, Participant 22| Total: 2457.66; Fixations: 10\n",
      "Session 22, Participant 23| Total: 17170.00; Fixations: 68\n",
      "Session 23, Participant 24| Total: 5691.38; Fixations: 24\n",
      "Session 24, Participant 25| Total: 17242.22; Fixations: 69\n",
      "Session 25, Participant 26| Total: 2331.34; Fixations: 10\n",
      "Session 26, Participant 27| Total: 0.00; Fixations: 2\n",
      "Session 27, Participant 28| Total: 7597.35; Fixations: 40\n",
      "Session 28, Participant 29| Total: 653.75; Fixations: 7\n",
      "Session 29, Participant 30| Total: 13673.61; Fixations: 64\n"
     ]
    }
   ],
   "source": [
    "for d in europeana_stats:\n",
    "    print(\"Session {0}, Participant {3}| Total: {1:.2f}; Fixations: {2}\".format(d[0],d[1],len(europeana_sa._session_paths[d[0]]),europeana_sa.participants[d[0]]))"
   ]
  },
  {
   "cell_type": "markdown",
   "id": "91205cf3-9b74-495e-a2cf-9da2ff857b04",
   "metadata": {},
   "source": [
    "## dLib Participant Saccade Path Length and Number of Fixations"
   ]
  },
  {
   "cell_type": "code",
   "execution_count": 123,
   "id": "271d707f-7524-4700-9a06-d4ab9a1b617a",
   "metadata": {},
   "outputs": [
    {
     "name": "stdout",
     "output_type": "stream",
     "text": [
      "Session 0, Participant 1| Total: 1383.74; Fixations: 15\n",
      "Session 1, Participant 2| Total: 41884.88; Fixations: 203\n",
      "Session 2, Participant 3| Total: 1418.08; Fixations: 23\n",
      "Session 3, Participant 4| Total: 2939.56; Fixations: 24\n",
      "Session 4, Participant 5| Total: 4748.03; Fixations: 35\n",
      "Session 5, Participant 6| Total: 5647.69; Fixations: 39\n",
      "Session 6, Participant 7| Total: 2361.84; Fixations: 23\n",
      "Session 7, Participant 8| Total: 19489.77; Fixations: 85\n",
      "Session 8, Participant 9| Total: 1020.05; Fixations: 8\n",
      "Session 9, Participant 10| Total: 2528.18; Fixations: 11\n",
      "Session 10, Participant 11| Total: 935.21; Fixations: 11\n",
      "Session 11, Participant 12| Total: 995.82; Fixations: 15\n",
      "Session 12, Participant 13| Total: 80.31; Fixations: 3\n",
      "Session 13, Participant 14| Total: 2060.64; Fixations: 27\n",
      "Session 14, Participant 15| Total: 11878.68; Fixations: 57\n",
      "Session 15, Participant 16| Total: 4803.09; Fixations: 23\n",
      "Session 16, Participant 17| Total: 4421.29; Fixations: 30\n",
      "Session 17, Participant 18| Total: 7395.18; Fixations: 37\n",
      "Session 18, Participant 19| Total: 9708.41; Fixations: 40\n",
      "Session 19, Participant 20| Total: 0.00; Fixations: 2\n",
      "Session 20, Participant 21| Total: 3309.84; Fixations: 17\n",
      "Session 21, Participant 22| Total: 3901.89; Fixations: 19\n",
      "Session 22, Participant 23| Total: 18367.69; Fixations: 77\n",
      "Session 23, Participant 24| Total: 902.41; Fixations: 7\n",
      "Session 24, Participant 25| Total: 21660.03; Fixations: 132\n",
      "Session 25, Participant 26| Total: 15924.70; Fixations: 94\n",
      "Session 26, Participant 27| Total: 2244.97; Fixations: 6\n",
      "Session 27, Participant 28| Total: 6886.19; Fixations: 41\n",
      "Session 28, Participant 29| Total: 7708.94; Fixations: 38\n",
      "Session 29, Participant 30| Total: 1441.03; Fixations: 13\n"
     ]
    }
   ],
   "source": [
    "for d in dlib_stats:\n",
    "    print(\"Session {0}, Participant {3}| Total: {1:.2f}; Fixations: {2}\".format(d[0],d[1],len(dlib_sa._session_paths[d[0]]),dlib_sa.participants[d[0]]))"
   ]
  },
  {
   "cell_type": "markdown",
   "id": "1677203c-5912-4753-aaa9-cf8c1a6c5722",
   "metadata": {},
   "source": [
    "***"
   ]
  },
  {
   "cell_type": "markdown",
   "id": "68f1fac9-dcbf-4ccf-94f4-6d06b97ea3ee",
   "metadata": {},
   "source": [
    "## dLib Saccade average distance between fixations and counts across sessions"
   ]
  },
  {
   "cell_type": "code",
   "execution_count": 124,
   "id": "c6b64760-93bd-4283-a5d2-a0568158d28f",
   "metadata": {},
   "outputs": [],
   "source": [
    "from collections import defaultdict\n",
    "counts = defaultdict(list)\n",
    "for d in dlib_stats:\n",
    "    for k,v in d[4].items():\n",
    "        counts[k].extend(v)"
   ]
  },
  {
   "cell_type": "code",
   "execution_count": 128,
   "id": "236a91c7-91c8-4b46-837d-42d312f93f5a",
   "metadata": {},
   "outputs": [],
   "source": [
    "dlib_pairs = []\n",
    "for k,v in counts.items():\n",
    "    if len(v) <= 1:\n",
    "        continue\n",
    "    dlib_pairs.append(tuple([k,np.mean(v),np.std(v),len(v)]))\n",
    "\n",
    "dlib_pairs = sorted(dlib_pairs,key = lambda x: x[3],reverse=True)"
   ]
  },
  {
   "cell_type": "markdown",
   "id": "e4cdeafb-681b-49af-bcd3-3ed618c50598",
   "metadata": {},
   "source": [
    "## Europeana Saccade average distance between fixations and counts across sessions"
   ]
  },
  {
   "cell_type": "code",
   "execution_count": 126,
   "id": "1b427348-bf86-42d0-a08a-f046ba81301b",
   "metadata": {},
   "outputs": [],
   "source": [
    "ecounts = defaultdict(list)\n",
    "for d in europeana_stats:\n",
    "    for k,v in d[4].items():\n",
    "        ecounts[k].extend(v)\n"
   ]
  },
  {
   "cell_type": "code",
   "execution_count": 130,
   "id": "9a8135bf-bbbd-422e-bad2-d709c4212c4f",
   "metadata": {},
   "outputs": [
    {
     "name": "stdout",
     "output_type": "stream",
     "text": [
      "======dLib=====\n",
      "Avg Length: 93.13 (144.07) | Counts: 176 | ('Search box', 'Search box')\n",
      "Avg Length: 134.16 (106.97) | Counts: 174 | ('Central text', 'Central text')\n",
      "Avg Length: 210.80 (235.24) | Counts: 136 | ('Collections', 'Collections')\n",
      "Avg Length: 149.36 (175.50) | Counts: 126 | ('NA', 'NA')\n",
      "Avg Length: 124.83 (173.68) | Counts: 49 | ('Search box', 'NA')\n",
      "Avg Length: 31.06 (17.05) | Counts: 48 | ('Material - photos', 'Material - photos')\n",
      "Avg Length: 164.97 (213.64) | Counts: 45 | ('NA', 'Search box')\n",
      "Avg Length: 110.60 (87.17) | Counts: 40 | ('Material - other', 'Material - other')\n",
      "Avg Length: 402.17 (194.94) | Counts: 37 | ('NA', 'Central text')\n",
      "Avg Length: 329.34 (163.59) | Counts: 27 | ('Central text', 'NA')\n",
      "Avg Length: 138.61 (167.30) | Counts: 21 | ('Logo', 'Search box')\n",
      "Avg Length: 37.60 (26.54) | Counts: 21 | ('Logo', 'Logo')\n",
      "Avg Length: 200.23 (196.81) | Counts: 19 | ('News', 'News')\n",
      "Avg Length: 280.03 (133.27) | Counts: 15 | ('Central text', 'Material - other')\n",
      "Avg Length: 129.20 (92.73) | Counts: 15 | ('Search box', 'Logo')\n",
      "Avg Length: 140.95 (23.83) | Counts: 13 | ('Material - other', 'Material - photos')\n",
      "Avg Length: 308.23 (296.62) | Counts: 13 | ('Logo', 'NA')\n",
      "Avg Length: 328.07 (247.23) | Counts: 12 | ('NA', 'Logo')\n",
      "Avg Length: 420.61 (86.54) | Counts: 11 | ('Central text', 'Search box')\n",
      "Avg Length: 455.36 (118.10) | Counts: 10 | ('Central text', 'Logo')\n",
      "Avg Length: 171.88 (16.37) | Counts: 9 | ('Material - photos', 'Material - other')\n",
      "Avg Length: 321.20 (116.80) | Counts: 9 | ('Material - other', 'Central text')\n",
      "Avg Length: 210.72 (78.00) | Counts: 9 | ('Central text', 'Material - photos')\n",
      "Avg Length: 646.39 (143.73) | Counts: 8 | ('Logo', 'Central text')\n",
      "Avg Length: 514.40 (162.34) | Counts: 7 | ('Material - other', 'NA')\n",
      "Avg Length: 363.96 (87.52) | Counts: 7 | ('Search box', 'Central text')\n",
      "Avg Length: 254.69 (74.77) | Counts: 7 | ('Material - photos', 'Central text')\n",
      "Avg Length: 116.53 (38.59) | Counts: 6 | ('NA', 'Material - other')\n",
      "Avg Length: 282.33 (199.91) | Counts: 5 | ('Material - photos', 'NA')\n",
      "Avg Length: 233.92 (127.40) | Counts: 4 | ('NA', 'News')\n",
      "Avg Length: 278.83 (149.01) | Counts: 4 | ('News', 'NA')\n",
      "Avg Length: 69.18 (33.55) | Counts: 4 | ('NA', 'Material - photos')\n",
      "Avg Length: 365.83 (109.71) | Counts: 3 | ('NA', 'Collections')\n",
      "Avg Length: 1359.33 (479.59) | Counts: 3 | ('Collections', 'NA')\n",
      "Avg Length: 515.41 (187.64) | Counts: 3 | ('News', 'Collections')\n",
      "Avg Length: 533.62 (341.69) | Counts: 3 | ('NA', 'Menu')\n",
      "Avg Length: 294.13 (56.55) | Counts: 3 | ('News', 'Material - other')\n",
      "Avg Length: 341.34 (19.12) | Counts: 2 | ('Material - photos', 'News')\n",
      "Avg Length: 520.97 (67.13) | Counts: 2 | ('Collections', 'News')\n",
      "Avg Length: 351.52 (159.48) | Counts: 2 | ('Material - other', 'News')\n",
      "Avg Length: 595.13 (3.76) | Counts: 2 | ('Search box', 'Material - other')\n",
      "Avg Length: 827.18 (58.83) | Counts: 2 | ('Material - photos', 'Logo')\n",
      "Avg Length: 571.19 (12.63) | Counts: 2 | ('Material - other', 'Search box')\n",
      "======Europeana=====\n",
      "Avg Length: 123.89 (154.61) | Counts: 250 | ('AOI[Search box]Hit', 'AOI[Search box]Hit')\n",
      "Avg Length: 189.55 (209.35) | Counts: 175 | ('AOI[Other collections]Hit', 'AOI[Other collections]Hit')\n",
      "Avg Length: 133.83 (137.07) | Counts: 56 | ('AOI[Central text]Hit', 'AOI[Central text]Hit')\n",
      "Avg Length: 189.98 (231.06) | Counts: 53 | ('AOI[Background image]Hit', 'AOI[Background image]Hit')\n",
      "Avg Length: 203.56 (160.91) | Counts: 48 | ('AOI[Central text]Hit', 'AOI[Search box]Hit')\n",
      "Avg Length: 144.77 (124.67) | Counts: 47 | ('AOI[Search box]Hit', 'AOI[Central text]Hit')\n",
      "Avg Length: 31.44 (17.04) | Counts: 47 | ('AOI[Browse]Hit', 'AOI[Browse]Hit')\n",
      "Avg Length: 80.59 (57.11) | Counts: 37 | ('AOI[1st WW collection]Hit', 'AOI[1st WW collection]Hit')\n",
      "Avg Length: 280.11 (209.64) | Counts: 36 | ('AOI[Background image]Hit', 'AOI[Search box]Hit')\n",
      "Avg Length: 256.87 (180.16) | Counts: 32 | ('AOI[Search box]Hit', 'AOI[Background image]Hit')\n",
      "Avg Length: 192.25 (207.68) | Counts: 21 | ('AOI[Search box]Hit', 'AOI[Browse]Hit')\n",
      "Avg Length: 390.13 (133.64) | Counts: 16 | ('AOI[1st WW collection]Hit', 'AOI[Other collections]Hit')\n",
      "Avg Length: 296.96 (251.01) | Counts: 15 | ('AOI[Background image]Hit', 'AOI[Central text]Hit')\n",
      "Avg Length: 355.09 (216.16) | Counts: 14 | ('AOI[Browse]Hit', 'AOI[Search box]Hit')\n",
      "Avg Length: 447.31 (220.28) | Counts: 14 | ('AOI[Other collections]Hit', 'AOI[1st WW collection]Hit')\n",
      "Avg Length: 292.54 (217.84) | Counts: 13 | ('AOI[News]Hit', 'AOI[News]Hit')\n",
      "Avg Length: 455.86 (217.66) | Counts: 9 | ('AOI[Other collections]Hit', 'AOI[Background image]Hit')\n",
      "Avg Length: 206.51 (195.46) | Counts: 9 | ('AOI[Central text]Hit', 'AOI[Background image]Hit')\n",
      "Avg Length: 206.26 (221.24) | Counts: 7 | ('NA', 'AOI[Search box]Hit')\n",
      "Avg Length: 300.10 (210.38) | Counts: 6 | ('AOI[Background image]Hit', 'AOI[Other collections]Hit')\n",
      "Avg Length: 50.93 (30.15) | Counts: 6 | ('AOI[Logo]Hit', 'AOI[Logo]Hit')\n",
      "Avg Length: 496.83 (232.29) | Counts: 5 | ('AOI[Other collections]Hit', 'AOI[News]Hit')\n",
      "Avg Length: 559.83 (90.70) | Counts: 5 | ('AOI[Other collections]Hit', 'AOI[Search box]Hit')\n",
      "Avg Length: 243.73 (127.05) | Counts: 5 | ('AOI[Background image]Hit', 'AOI[1st WW collection]Hit')\n",
      "Avg Length: 405.86 (275.38) | Counts: 5 | ('AOI[Background image]Hit', 'NA')\n",
      "Avg Length: 496.30 (519.81) | Counts: 5 | ('NA', 'AOI[Background image]Hit')\n",
      "Avg Length: 402.74 (545.49) | Counts: 5 | ('AOI[Logo]Hit', 'AOI[Background image]Hit')\n",
      "Avg Length: 302.87 (144.32) | Counts: 5 | ('AOI[1st WW collection]Hit', 'AOI[Background image]Hit')\n",
      "Avg Length: 490.71 (48.82) | Counts: 4 | ('AOI[Search box]Hit', 'AOI[Logo]Hit')\n",
      "Avg Length: 556.67 (94.00) | Counts: 4 | ('AOI[Logo]Hit', 'AOI[Search box]Hit')\n",
      "Avg Length: 301.26 (246.84) | Counts: 4 | ('AOI[Search box]Hit', 'NA')\n",
      "Avg Length: 635.95 (158.02) | Counts: 4 | ('AOI[Search box]Hit', 'AOI[Other collections]Hit')\n",
      "Avg Length: 332.86 (246.72) | Counts: 4 | ('AOI[Browse]Hit', 'AOI[Central text]Hit')\n",
      "Avg Length: 230.10 (221.41) | Counts: 4 | ('NA', 'NA')\n",
      "Avg Length: 66.07 (41.28) | Counts: 4 | ('AOI[Menu1]Hit', 'AOI[Menu1]Hit')\n",
      "Avg Length: 396.61 (30.75) | Counts: 3 | ('AOI[Menu1]Hit', 'AOI[Search box]Hit')\n",
      "Avg Length: 414.73 (241.71) | Counts: 3 | ('AOI[News]Hit', 'AOI[Other collections]Hit')\n",
      "Avg Length: 289.91 (181.66) | Counts: 3 | ('AOI[Browse]Hit', 'AOI[Background image]Hit')\n",
      "Avg Length: 558.95 (151.81) | Counts: 3 | ('AOI[Central text]Hit', 'AOI[Other collections]Hit')\n",
      "Avg Length: 337.08 (147.12) | Counts: 3 | ('NA', 'AOI[Other collections]Hit')\n",
      "Avg Length: 493.72 (75.22) | Counts: 3 | ('AOI[Other collections]Hit', 'AOI[Central text]Hit')\n",
      "Avg Length: 366.44 (14.94) | Counts: 3 | ('AOI[Search box]Hit', 'AOI[Menu1]Hit')\n",
      "Avg Length: 590.50 (58.80) | Counts: 3 | ('AOI[Search box]Hit', 'AOI[1st WW collection]Hit')\n",
      "Avg Length: 295.43 (166.17) | Counts: 2 | ('AOI[Background image]Hit', 'AOI[Menu1]Hit')\n",
      "Avg Length: 355.63 (272.75) | Counts: 2 | ('AOI[Central text]Hit', 'AOI[Browse]Hit')\n",
      "Avg Length: 222.52 (68.31) | Counts: 2 | ('AOI[Background image]Hit', 'AOI[Browse]Hit')\n",
      "Avg Length: 339.08 (26.98) | Counts: 2 | ('AOI[News]Hit', 'NA')\n",
      "Avg Length: 191.34 (54.87) | Counts: 2 | ('NA', 'AOI[About]Hit')\n",
      "Avg Length: 320.51 (179.22) | Counts: 2 | ('AOI[Other collections]Hit', 'NA')\n",
      "Avg Length: 218.91 (5.53) | Counts: 2 | ('AOI[Background image]Hit', 'AOI[Logo]Hit')\n",
      "Avg Length: 483.69 (100.59) | Counts: 2 | ('AOI[Central text]Hit', 'AOI[1st WW collection]Hit')\n",
      "Avg Length: 154.58 (5.52) | Counts: 2 | ('AOI[Menu1]Hit', 'AOI[Logo]Hit')\n",
      "Avg Length: 434.54 (222.50) | Counts: 2 | ('AOI[1st WW collection]Hit', 'NA')\n",
      "Avg Length: 385.37 (173.91) | Counts: 2 | ('AOI[Central text]Hit', 'NA')\n"
     ]
    }
   ],
   "source": [
    "euro_pairs = []\n",
    "for k,v in ecounts.items():\n",
    "    if len(v) <= 1:\n",
    "        continue\n",
    "    euro_pairs.append(tuple([k,np.mean(v),np.std(v),len(v)]))\n",
    "euro_pairs = sorted(euro_pairs,key = lambda x: x[3],reverse=True)\n",
    "print(\"======dLib=====\")\n",
    "for elt in dlib_pairs:\n",
    "    print(\"Avg Length: {0:.2f} ({1:.2f}) | Counts: {2} | {3}\".format(elt[1],elt[2],elt[3],elt[0]))\n",
    "print(\"======Europeana=====\")\n",
    "for elt in euro_pairs:\n",
    "    print(\"Avg Length: {0:.2f} ({1:.2f}) | Counts: {2} | {3}\".format(elt[1],elt[2],elt[3],elt[0]))"
   ]
  },
  {
   "cell_type": "markdown",
   "id": "23c00b8f-fe22-4ab0-bc02-f5b8e3fc40cb",
   "metadata": {},
   "source": [
    "***"
   ]
  },
  {
   "cell_type": "markdown",
   "id": "b46b4539-fb20-4587-964d-8d2b9ab6d8e6",
   "metadata": {},
   "source": [
    "# dLib and Europeana Normalized Dwell Time Mean and Standard Deviation across Sessions"
   ]
  },
  {
   "cell_type": "code",
   "execution_count": 45,
   "id": "e12eccdb-8d24-4c83-9a9b-70007c8fdab9",
   "metadata": {},
   "outputs": [],
   "source": [
    "dlibpa = PathAnalyzer(xlsx_file='dlb-trial.xlsx')"
   ]
  },
  {
   "cell_type": "code",
   "execution_count": 46,
   "id": "c3ebd2b8-64ee-438f-b584-6ffb095cfd31",
   "metadata": {},
   "outputs": [
    {
     "name": "stderr",
     "output_type": "stream",
     "text": [
      "/Users/aroegies/scanpath/lib/python3.9/site-packages/openpyxl/styles/stylesheet.py:226: UserWarning: Workbook contains no default style, apply openpyxl's default\n",
      "  warn(\"Workbook contains no default style, apply openpyxl's default\")\n"
     ]
    }
   ],
   "source": [
    "europa = PathAnalyzer(xlsx_file='europeana-trial.xlsx')"
   ]
  },
  {
   "cell_type": "code",
   "execution_count": 47,
   "id": "0fbc9cca-648c-4748-8891-35c920f31ed3",
   "metadata": {},
   "outputs": [],
   "source": [
    "dlib_dwells = dlibpa.scan_path_dwell()"
   ]
  },
  {
   "cell_type": "code",
   "execution_count": 48,
   "id": "891643d4-0bf1-4f30-8cc0-541a9df3a331",
   "metadata": {},
   "outputs": [],
   "source": [
    "euro_dwells = europa.scan_path_dwell()"
   ]
  },
  {
   "cell_type": "code",
   "execution_count": 49,
   "id": "4ce5f047-3887-42f9-a7a7-94a3754dc2e9",
   "metadata": {},
   "outputs": [
    {
     "name": "stdout",
     "output_type": "stream",
     "text": [
      "=========DLIB=========\n",
      "Logo: 0.06 (0.06)\n",
      "Search box: 0.30 (0.28)\n",
      "Menu: 0.00 (0.01)\n",
      "Central text: 0.20 (0.17)\n",
      "Collections: 0.03 (0.11)\n",
      "Publications: 0.00 (0.00)\n",
      "News: 0.01 (0.02)\n",
      "Material - other: 0.04 (0.07)\n",
      "Material - photos: 0.12 (0.24)\n",
      "NA: 0.23 (0.23)\n",
      "=========EUROPEANA=========\n",
      "AOI[Logo]Hit: 0.01 (0.03)\n",
      "AOI[Menu1]Hit: 0.01 (0.02)\n",
      "AOI[Menu2]Hit: 0.00 (0.01)\n",
      "AOI[Search box]Hit: 0.44 (0.31)\n",
      "AOI[Central text]Hit: 0.16 (0.15)\n",
      "AOI[Browse]Hit: 0.04 (0.11)\n",
      "AOI[1st WW collection]Hit: 0.08 (0.23)\n",
      "AOI[Other collections]Hit: 0.12 (0.25)\n",
      "AOI[News]Hit: 0.01 (0.02)\n",
      "AOI[About]Hit: 0.00 (0.00)\n",
      "AOI[Background image]Hit: 0.12 (0.20)\n",
      "NA: 0.01 (0.02)\n"
     ]
    }
   ],
   "source": [
    "dlib_dwells_agg = defaultdict(list)\n",
    "euro_dwells_agg = defaultdict(list)\n",
    "for dwells in dlib_dwells:\n",
    "    for k,v in dwells:\n",
    "        dlib_dwells_agg[k].append(v)\n",
    "\n",
    "for dwells in euro_dwells:\n",
    "    for k,v in dwells:\n",
    "        euro_dwells_agg[k].append(v)\n",
    "        \n",
    "print(\"=========DLIB=========\")\n",
    "for k,v in dlib_dwells_agg.items():\n",
    "    print(\"{0}: {1:.2f} ({2:.2f})\".format(k, np.mean(v), np.std(v)))\n",
    "print(\"=========EUROPEANA=========\")\n",
    "for k,v in euro_dwells_agg.items():\n",
    "    print(\"{0}: {1:.2f} ({2:.2f})\".format(k, np.mean(v), np.std(v)))\n"
   ]
  },
  {
   "cell_type": "markdown",
   "id": "7618de2c-4fc9-44a3-bbac-cb5ad0555f13",
   "metadata": {},
   "source": [
    "***"
   ]
  },
  {
   "cell_type": "markdown",
   "id": "37808bcf-90b5-49a3-abba-8e67f4a6f4b6",
   "metadata": {},
   "source": [
    "## dLib and Europeana Aggregate Saccade Path Distance to First Occurrence of Each AoI, mean and standard deviation"
   ]
  },
  {
   "cell_type": "code",
   "execution_count": 50,
   "id": "d5ab86d2-0ed5-48f5-81eb-0dfd27fef3cb",
   "metadata": {},
   "outputs": [
    {
     "name": "stdout",
     "output_type": "stream",
     "text": [
      "=======DLIB======\n",
      "Material - other: 2775.45 (2902.9454461331484)\n",
      "Material - photos: 6310.21 (10238.602191926735)\n",
      "News: 4301.07 (3146.0026360766774)\n",
      "Central text: 506.11 (526.9997315307307)\n",
      "Logo: 2505.80 (3942.805240582726)\n",
      "Collections: 5396.57 (2813.279155729603)\n",
      "Search box: 1971.15 (3573.0941558593754)\n",
      "Menu: 4199.04 (1409.3567856772202)\n",
      "8\n",
      "=======EUROPEANA======\n",
      "AOI[Other collections]Hit: 2421.29 (1703.2158368486803)\n",
      "AOI[Background image]Hit: 1971.52 (2225.4264293743254)\n",
      "AOI[Menu1]Hit: 3596.05 (3806.3083673706383)\n",
      "AOI[Search box]Hit: 483.14 (579.0575280024841)\n",
      "AOI[Central text]Hit: 1594.56 (2733.545273109879)\n",
      "AOI[Browse]Hit: 3858.49 (4449.884593587718)\n",
      "AOI[1st WW collection]Hit: 3397.42 (1894.9743457363757)\n",
      "AOI[News]Hit: 11561.31 (7019.286272236352)\n",
      "AOI[Logo]Hit: 7572.84 (7258.6018191174335)\n",
      "AOI[About]Hit: 10997.24 (3681.6533028166236)\n",
      "AOI[Menu2]Hit: 7819.10 (0.0)\n",
      "9\n"
     ]
    }
   ],
   "source": [
    "dlib_firsts = dlib_sa.first_saccade_distance()\n",
    "dlib_first_aggs = defaultdict(list)\n",
    "for session in dlib_firsts:\n",
    "    for k,v in session.items():\n",
    "        dlib_first_aggs[k].append(v)\n",
    "\n",
    "print(\"=======DLIB======\")\n",
    "for k,v in dlib_first_aggs.items():\n",
    "    print(\"{0}: {1:.2f} ({2})\".format(k,np.mean(v),np.std(v)))\n",
    "\n",
    "print(len([x for x in dlib_first_aggs[\"Search box\"] if x < 200.0000001]))\n",
    "\n",
    "euro_firsts = europeana_sa.first_saccade_distance()\n",
    "euro_first_aggs = defaultdict(list)\n",
    "for session in euro_firsts:\n",
    "    for k,v in session.items():\n",
    "        euro_first_aggs[k].append(v)\n",
    "\n",
    "print(\"=======EUROPEANA======\")\n",
    "for k,v in euro_first_aggs.items():\n",
    "    print(\"{0}: {1:.2f} ({2})\".format(k,np.mean(v),np.std(v)))\n",
    "\n",
    "print(len([x for x in euro_first_aggs[\"AOI[Search box]Hit\"] if x < 200.0000001]))"
   ]
  },
  {
   "cell_type": "markdown",
   "id": "7c5d1f19-7142-4388-992f-7427593b3148",
   "metadata": {},
   "source": [
    "***"
   ]
  },
  {
   "cell_type": "markdown",
   "id": "bfaa228d-0d73-47f3-9aab-37962700405e",
   "metadata": {},
   "source": [
    "### Dwell Time to First Fixation"
   ]
  },
  {
   "cell_type": "code",
   "execution_count": 51,
   "id": "97974251-b23e-43d0-9b93-f67fc5723caf",
   "metadata": {},
   "outputs": [
    {
     "name": "stdout",
     "output_type": "stream",
     "text": [
      "Session 0, Participant 1; Search box: 0.0 (nan))\n",
      "Session 0, Participant 1; Central text: 0.0 (nan))\n",
      "Session 0, Participant 1; Material - photos: 0.0 (nan))\n",
      "Session 1, Participant 2; Search box: 0.0 (nan))\n",
      "Session 1, Participant 2; Central text: 0.0 (nan))\n",
      "Session 1, Participant 2; Material - photos: 40121 (6686.833333333333))\n",
      "Session 2, Participant 3; Search box: 325 (162.5))\n",
      "Session 2, Participant 3; Central text: 3817 (1272.3333333333333))\n",
      "Session 2, Participant 3; Material - photos: 0.0 (nan))\n",
      "Session 3, Participant 4; Search box: 1076 (358.6666666666667))\n",
      "Session 3, Participant 4; Central text: 0.0 (nan))\n",
      "Session 3, Participant 4; Material - photos: 0.0 (nan))\n",
      "Session 4, Participant 5; Search box: 0.0 (nan))\n",
      "Session 4, Participant 5; Central text: 0.0 (nan))\n",
      "Session 4, Participant 5; Material - photos: 0.0 (nan))\n",
      "Session 5, Participant 6; Search box: 575 (287.5))\n",
      "Session 5, Participant 6; Central text: 142 (142.0))\n",
      "Session 5, Participant 6; Material - photos: 0.0 (nan))\n",
      "Session 6, Participant 7; Search box: 167 (167.0))\n",
      "Session 6, Participant 7; Central text: 3401 (850.25))\n",
      "Session 6, Participant 7; Material - photos: 626 (208.66666666666666))\n",
      "Session 7, Participant 8; Search box: 134 (134.0))\n",
      "Session 7, Participant 8; Central text: 1010 (505.0))\n",
      "Session 7, Participant 8; Material - photos: 5810 (968.3333333333334))\n",
      "Session 8, Participant 9; Search box: 384 (384.0))\n",
      "Session 8, Participant 9; Central text: 934 (467.0))\n",
      "Session 8, Participant 9; Material - photos: 0.0 (nan))\n",
      "Session 9, Participant 10; Search box: 0.0 (nan))\n",
      "Session 9, Participant 10; Central text: 1283 (641.5))\n",
      "Session 9, Participant 10; Material - photos: 0.0 (nan))\n",
      "Session 10, Participant 11; Search box: 0.0 (nan))\n",
      "Session 10, Participant 11; Central text: 0.0 (nan))\n",
      "Session 10, Participant 11; Material - photos: 0.0 (nan))\n",
      "Session 11, Participant 12; Search box: 0.0 (nan))\n",
      "Session 11, Participant 12; Central text: 0.0 (nan))\n",
      "Session 11, Participant 12; Material - photos: 0.0 (nan))\n",
      "Session 12, Participant 13; Search box: 0.0 (nan))\n",
      "Session 12, Participant 13; Central text: 0.0 (nan))\n",
      "Session 12, Participant 13; Material - photos: 0.0 (nan))\n",
      "Session 13, Participant 14; Search box: 991 (991.0))\n",
      "Session 13, Participant 14; Central text: 0.0 (nan))\n",
      "Session 13, Participant 14; Material - photos: 0.0 (nan))\n",
      "Session 14, Participant 15; Search box: 7639 (1909.75))\n",
      "Session 14, Participant 15; Central text: 0.0 (nan))\n",
      "Session 14, Participant 15; Material - photos: 0.0 (nan))\n",
      "Session 15, Participant 16; Search box: 275 (275.0))\n",
      "Session 15, Participant 16; Central text: 683 (227.66666666666666))\n",
      "Session 15, Participant 16; Material - photos: 0.0 (nan))\n",
      "Session 16, Participant 17; Search box: 492 (492.0))\n",
      "Session 16, Participant 17; Central text: 0.0 (nan))\n",
      "Session 16, Participant 17; Material - photos: 0.0 (nan))\n",
      "Session 17, Participant 18; Search box: 516 (516.0))\n",
      "Session 17, Participant 18; Central text: 1325 (662.5))\n",
      "Session 17, Participant 18; Material - photos: 0.0 (nan))\n",
      "Session 18, Participant 19; Search box: 3443 (860.75))\n",
      "Session 18, Participant 19; Central text: 0.0 (nan))\n",
      "Session 18, Participant 19; Material - photos: 4119 (823.8))\n",
      "Session 19, Participant 20; Search box: 0.0 (nan))\n",
      "Session 19, Participant 20; Central text: 0.0 (nan))\n",
      "Session 19, Participant 20; Material - photos: 0.0 (nan))\n",
      "Session 20, Participant 21; Search box: 0.0 (nan))\n",
      "Session 20, Participant 21; Central text: 358 (358.0))\n",
      "Session 20, Participant 21; Material - photos: 1857 (619.0))\n",
      "Session 21, Participant 22; Search box: 608 (304.0))\n",
      "Session 21, Participant 22; Central text: 367 (367.0))\n",
      "Session 21, Participant 22; Material - photos: 0.0 (nan))\n",
      "Session 22, Participant 23; Search box: 0.0 (nan))\n",
      "Session 22, Participant 23; Central text: 0.0 (nan))\n",
      "Session 22, Participant 23; Material - photos: 0.0 (nan))\n",
      "Session 23, Participant 23; Search box: 8369 (1195.5714285714287))\n",
      "Session 23, Participant 23; Central text: 0.0 (nan))\n",
      "Session 23, Participant 23; Material - photos: 2458 (819.3333333333334))\n",
      "Session 24, Participant 24; Search box: 0.0 (nan))\n",
      "Session 24, Participant 24; Central text: 383 (191.5))\n",
      "Session 24, Participant 24; Material - photos: 0.0 (nan))\n",
      "Session 25, Participant 25; Search box: 359 (179.5))\n",
      "Session 25, Participant 25; Central text: 92 (92.0))\n",
      "Session 25, Participant 25; Material - photos: 2350 (587.5))\n",
      "Session 26, Participant 26; Search box: 1674 (1674.0))\n",
      "Session 26, Participant 26; Central text: 0.0 (nan))\n",
      "Session 26, Participant 26; Material - photos: 15932 (2276.0))\n",
      "Session 27, Participant 27; Search box: 0.0 (nan))\n",
      "Session 27, Participant 27; Central text: 92 (92.0))\n",
      "Session 27, Participant 27; Material - photos: 0.0 (nan))\n",
      "Session 28, Participant 28; Search box: 0.0 (nan))\n",
      "Session 28, Participant 28; Central text: 0.0 (nan))\n",
      "Session 28, Participant 28; Material - photos: 4983 (1245.75))\n",
      "Session 29, Participant 29; Search box: 1700 (566.6666666666666))\n",
      "Session 29, Participant 29; Central text: 158 (158.0))\n",
      "Session 29, Participant 29; Material - photos: 0.0 (nan))\n",
      "Session 30, Participant 30; Search box: 150 (150.0))\n",
      "Session 30, Participant 30; Central text: 0.0 (nan))\n",
      "Session 30, Participant 30; Material - photos: 1741 (580.3333333333334))\n"
     ]
    },
    {
     "name": "stderr",
     "output_type": "stream",
     "text": [
      "/Users/aroegies/scanpath/lib/python3.9/site-packages/numpy/core/fromnumeric.py:3504: RuntimeWarning: Mean of empty slice.\n",
      "  return _methods._mean(a, axis=axis, dtype=dtype,\n",
      "/Users/aroegies/scanpath/lib/python3.9/site-packages/numpy/core/_methods.py:129: RuntimeWarning: invalid value encountered in scalar divide\n",
      "  ret = ret.dtype.type(ret / rcount)\n"
     ]
    }
   ],
   "source": [
    "\n",
    "for idx, session in enumerate(dlibpa.first_fixation()):\n",
    "    participant = dlib_sa.participants[idx]\n",
    "    for aoi in ['Search box','Central text', 'Material - photos']:\n",
    "        data = session[aoi]\n",
    "        print(\"Session {0}, Participant {1}; {2}: {3} ({4}))\".format(idx,participant, aoi, np.sum(data), np.mean(data)))"
   ]
  },
  {
   "cell_type": "code",
   "execution_count": 22,
   "id": "5493030f-6dfa-4bf4-ad29-88c05066d8db",
   "metadata": {},
   "outputs": [
    {
     "data": {
      "text/plain": [
       "[(175, 'Central text'),\n",
       " (300, 'Central text'),\n",
       " (333, 'Central text'),\n",
       " (325, 'Central text'),\n",
       " (467, 'Central text'),\n",
       " (108, 'NA'),\n",
       " (192, 'Material - other'),\n",
       " (92, 'Material - other'),\n",
       " (200, 'Material - other'),\n",
       " (150, 'Central text'),\n",
       " (183, 'Central text'),\n",
       " (217, 'Central text'),\n",
       " (300, 'Central text'),\n",
       " (533, 'Central text'),\n",
       " (283, 'Central text'),\n",
       " (158, 'Central text'),\n",
       " (158, 'Central text'),\n",
       " (158, 'Central text'),\n",
       " (300, 'Material - other'),\n",
       " (208, 'Material - other'),\n",
       " (225, 'Central text'),\n",
       " (525, 'Central text'),\n",
       " (200, 'Central text'),\n",
       " (133, 'Material - other'),\n",
       " (108, 'Material - other'),\n",
       " (183, 'Central text'),\n",
       " (250, 'Central text'),\n",
       " (233, 'Central text'),\n",
       " (142, 'Central text'),\n",
       " (183, 'Central text'),\n",
       " (250, 'Logo'),\n",
       " (67, 'NA'),\n",
       " (275, 'NA'),\n",
       " (192, 'Central text'),\n",
       " (275, 'Central text'),\n",
       " (117, 'Central text'),\n",
       " (175, 'Central text'),\n",
       " (150, 'NA'),\n",
       " (150, 'Material - other'),\n",
       " (150, 'NA'),\n",
       " (83, 'News'),\n",
       " (75, 'News'),\n",
       " (92, 'News'),\n",
       " (117, 'News'),\n",
       " (92, 'News'),\n",
       " (300, 'News'),\n",
       " (125, 'NA'),\n",
       " (67, 'Collections'),\n",
       " (117, 'Collections'),\n",
       " (233, 'Collections'),\n",
       " (67, 'Collections'),\n",
       " (75, 'Collections'),\n",
       " (142, 'Collections'),\n",
       " (208, 'Collections'),\n",
       " (75, 'NA'),\n",
       " (158, 'NA'),\n",
       " (142, 'NA'),\n",
       " (200, 'Collections'),\n",
       " (183, 'Collections'),\n",
       " (150, 'News'),\n",
       " (67, 'NA'),\n",
       " (167, 'NA'),\n",
       " (108, 'Material - other'),\n",
       " (100, 'Central text'),\n",
       " (383, 'Central text'),\n",
       " (208, 'NA'),\n",
       " (175, 'Central text'),\n",
       " (150, 'Central text'),\n",
       " (167, 'Central text'),\n",
       " (333, 'Central text'),\n",
       " (100, 'Central text'),\n",
       " (133, 'Central text'),\n",
       " (192, 'Central text'),\n",
       " (208, 'Central text'),\n",
       " (300, 'Central text'),\n",
       " (283, 'Central text'),\n",
       " (175, 'Material - other'),\n",
       " (83, 'Material - other'),\n",
       " (200, 'Material - other'),\n",
       " (100, 'News'),\n",
       " (192, 'News'),\n",
       " (175, 'Collections'),\n",
       " (158, 'Collections'),\n",
       " (167, 'Collections'),\n",
       " (208, 'Collections'),\n",
       " (525, 'Collections'),\n",
       " (208, 'Collections'),\n",
       " (83, 'Collections'),\n",
       " (175, 'Collections'),\n",
       " (258, 'Collections'),\n",
       " (125, 'Collections'),\n",
       " (92, 'Collections'),\n",
       " (167, 'Collections'),\n",
       " (92, 'Collections'),\n",
       " (217, 'Collections'),\n",
       " (142, 'Collections'),\n",
       " (167, 'Collections'),\n",
       " (250, 'Collections'),\n",
       " (167, 'Collections'),\n",
       " (275, 'Collections'),\n",
       " (100, 'Collections'),\n",
       " (150, 'Collections'),\n",
       " (267, 'Collections'),\n",
       " (100, 'Collections'),\n",
       " (67, 'Collections'),\n",
       " (92, 'Collections'),\n",
       " (158, 'Collections'),\n",
       " (333, 'Collections'),\n",
       " (317, 'Collections'),\n",
       " (183, 'Collections'),\n",
       " (125, 'Collections'),\n",
       " (217, 'Collections'),\n",
       " (192, 'Collections'),\n",
       " (167, 'Collections'),\n",
       " (133, 'Collections'),\n",
       " (158, 'Collections'),\n",
       " (200, 'Collections'),\n",
       " (208, 'Collections'),\n",
       " (75, 'Collections'),\n",
       " (67, 'Collections'),\n",
       " (258, 'Collections'),\n",
       " (158, 'Collections'),\n",
       " (142, 'Collections'),\n",
       " (133, 'Collections'),\n",
       " (175, 'Collections'),\n",
       " (158, 'Collections'),\n",
       " (192, 'Collections'),\n",
       " (158, 'Collections'),\n",
       " (208, 'Collections'),\n",
       " (267, 'Collections'),\n",
       " (92, 'Collections'),\n",
       " (225, 'Collections'),\n",
       " (108, 'Collections'),\n",
       " (92, 'Collections'),\n",
       " (242, 'Collections'),\n",
       " (200, 'Collections'),\n",
       " (142, 'Collections'),\n",
       " (183, 'Collections'),\n",
       " (275, 'Collections'),\n",
       " (133, 'Collections'),\n",
       " (217, 'Collections'),\n",
       " (117, 'Collections'),\n",
       " (208, 'Collections'),\n",
       " (217, 'Collections'),\n",
       " (333, 'Collections'),\n",
       " (167, 'Collections'),\n",
       " (125, 'Collections'),\n",
       " (275, 'Collections'),\n",
       " (258, 'Collections'),\n",
       " (192, 'Collections'),\n",
       " (300, 'Collections'),\n",
       " (250, 'Collections'),\n",
       " (67, 'Collections'),\n",
       " (250, 'Collections'),\n",
       " (258, 'Collections'),\n",
       " (450, 'Collections'),\n",
       " (117, 'Collections'),\n",
       " (350, 'Collections'),\n",
       " (125, 'Collections'),\n",
       " (283, 'Collections'),\n",
       " (458, 'Collections'),\n",
       " (208, 'Collections'),\n",
       " (225, 'Collections'),\n",
       " (117, 'Collections'),\n",
       " (275, 'Collections'),\n",
       " (100, 'Collections'),\n",
       " (125, 'Collections'),\n",
       " (158, 'Collections'),\n",
       " (325, 'Collections'),\n",
       " (200, 'Collections'),\n",
       " (308, 'Collections'),\n",
       " (275, 'Collections'),\n",
       " (183, 'Collections'),\n",
       " (867, 'Collections'),\n",
       " (1816, 'Collections'),\n",
       " (192, 'Collections'),\n",
       " (133, 'Collections'),\n",
       " (100, 'Collections'),\n",
       " (125, 'Collections'),\n",
       " (208, 'News'),\n",
       " (100, 'NA'),\n",
       " (67, 'News'),\n",
       " (158, 'News'),\n",
       " (108, 'News'),\n",
       " (325, 'News'),\n",
       " (133, 'News'),\n",
       " (150, 'News'),\n",
       " (233, 'News'),\n",
       " (183, 'NA'),\n",
       " (67, 'Central text'),\n",
       " (200, 'Central text'),\n",
       " (167, 'Material - other'),\n",
       " (100, 'Material - other'),\n",
       " (258, 'Material - other'),\n",
       " (233, 'Material - other'),\n",
       " (108, 'Material - other'),\n",
       " (200, 'Material - other'),\n",
       " (208, 'Material - other'),\n",
       " (150, 'Material - other'),\n",
       " (167, 'Material - other'),\n",
       " (325, 'Material - photos'),\n",
       " (1058, 'Material - photos'),\n",
       " (633, 'Material - photos')]"
      ]
     },
     "execution_count": 22,
     "metadata": {},
     "output_type": "execute_result"
    }
   ],
   "source": [
    "\n",
    "dlibpa._session_paths[1]"
   ]
  },
  {
   "cell_type": "markdown",
   "id": "3c7d7700-b071-4f82-aa73-8f5d574878cd",
   "metadata": {},
   "source": [
    "### Save Data To CSV for import into Excel (or other program)"
   ]
  },
  {
   "cell_type": "code",
   "execution_count": 52,
   "id": "6d507439-1f28-436e-af91-b9810d3ace54",
   "metadata": {},
   "outputs": [],
   "source": [
    "import csv\n",
    "## General Participant Stats First\n",
    "with open(\"dlib_summary_nona.csv\",\"w\") as file:\n",
    "    wrtr = csv.writer(file,quoting=csv.QUOTE_MINIMAL)\n",
    "    wrtr.writerow([\"SessionID\",\"ParticipantID\",\"Number of Fixations\",\"Cumulative Saccade Length\",\"Average Saccade Length\",\"Saccade Length Standard Dev\"])\n",
    "    for d in dlib_stats:\n",
    "        wrtr.writerow([d[0],dlib_sa.participants[d[0]],len(dlib_sa._session_paths[d[0]]),d[1],d[2],d[3]])\n",
    "with open(\"europeana_summary_nona.csv\",\"w\") as file:\n",
    "    wrtr = csv.writer(file,quoting=csv.QUOTE_MINIMAL)\n",
    "    wrtr.writerow([\"SessionID\",\"ParticipantID\",\"Number of Fixations\",\"Cumulative Saccade Length\",\"Average Saccade Length\",\"Saccade Length Standard Dev\"])\n",
    "    for d in europeana_stats:\n",
    "        wrtr.writerow([d[0],europeana_sa.participants[d[0]],len(europeana_sa._session_paths[d[0]]),d[1],d[2],d[3]])"
   ]
  },
  {
   "cell_type": "code",
   "execution_count": 127,
   "id": "7a37495c-c383-417f-9089-a9cd97f9476e",
   "metadata": {},
   "outputs": [],
   "source": [
    "## Cumulative Saccade Length to First AoI Occurrence\n",
    "with open(\"dlib_saccade_firsts_nona.csv\",\"w\") as file:\n",
    "    wrtr = csv.writer(file,quoting=csv.QUOTE_MINIMAL)\n",
    "    header = [\"SessionID\",\"ParticipantId\"]\n",
    "    header.extend(dlib_sa.AOIs)\n",
    "    wrtr.writerow(header)\n",
    "    for idx,d in enumerate(dlib_firsts):\n",
    "        row = [idx,dlib_sa.participants[idx]]\n",
    "        for aoi in dlib_sa.AOIs:\n",
    "            row.append(d[aoi])\n",
    "        wrtr.writerow(row)\n",
    "with open(\"europeana_saccade_firsts_nona.csv\",\"w\") as file:\n",
    "    wrtr = csv.writer(file,quoting=csv.QUOTE_MINIMAL)\n",
    "    header = [\"SessionID\",\"ParticipantId\"]\n",
    "    header.extend(europeana_sa.AOIs)\n",
    "    wrtr.writerow(header)\n",
    "    for idx,d in enumerate(euro_firsts):\n",
    "        row = [idx,europeana_sa.participants[idx]]\n",
    "        for aoi in europeana_sa.AOIs:\n",
    "            row.append(d[aoi])\n",
    "        wrtr.writerow(row)"
   ]
  },
  {
   "cell_type": "code",
   "execution_count": 128,
   "id": "9820c769-c3ed-4b62-bc0a-75761e6580f6",
   "metadata": {},
   "outputs": [],
   "source": [
    "## Normalized Dwell Time / Heatmap Simplification\n",
    "with open(\"dlib_normalized_dwell_nona.csv\",\"w\") as file:\n",
    "    wrtr = csv.writer(file,quoting=csv.QUOTE_MINIMAL)\n",
    "    header = [\"SessionID\",\"ParticipantId\"]\n",
    "    header.extend(dlib_sa.AOIs)\n",
    "    header.append(\"NA\")\n",
    "    wrtr.writerow(header)\n",
    "    for idx,d in enumerate(dlib_dwells):\n",
    "        row = [idx,dlib_sa.participants[idx]]\n",
    "        for k,v in d:\n",
    "            row.append(v)\n",
    "        wrtr.writerow(row)\n",
    "with open(\"europeana_normalized_dwell_nona.csv\",\"w\") as file:\n",
    "    wrtr = csv.writer(file,quoting=csv.QUOTE_MINIMAL)\n",
    "    header = [\"SessionID\",\"ParticipantId\"]\n",
    "    header.extend(europeana_sa.AOIs)\n",
    "    header.append(\"NA\")\n",
    "    wrtr.writerow(header)\n",
    "    for idx,d in enumerate(euro_dwells):\n",
    "        row = [idx,europeana_sa.participants[idx]]\n",
    "        for k,v in d:\n",
    "            row.append(v)\n",
    "        wrtr.writerow(row)"
   ]
  },
  {
   "cell_type": "code",
   "execution_count": 129,
   "id": "7bca9e65-a7c7-42de-a01c-005e7888979b",
   "metadata": {},
   "outputs": [],
   "source": [
    "### Micro-Average All Pairs Distances\n",
    "with open(\"dlib_saccade_pairs_micro_average_nona.csv\",\"w\") as file:\n",
    "    wrtr = csv.writer(file,quoting=csv.QUOTE_MINIMAL)\n",
    "    wrtr.writerow([\"StartFixation\",\"EndFixation\",\"Count\",\"Mean Length\",\"Length Standard Deviation\"])\n",
    "    for elt in dlib_pairs:\n",
    "        wrtr.writerow([elt[0][0],elt[0][1],elt[3],elt[1],elt[2]])\n",
    "with open(\"europeana_saccade_pairs_micro_average_nona.csv\",\"w\") as file:\n",
    "    wrtr = csv.writer(file,quoting=csv.QUOTE_MINIMAL)\n",
    "    wrtr.writerow([\"StartFixation\",\"EndFixation\",\"Count\",\"Mean Length\",\"Length Standard Deviation\"])\n",
    "    for elt in euro_pairs:\n",
    "        wrtr.writerow([elt[0][0],elt[0][1],elt[3],elt[1],elt[2]])"
   ]
  },
  {
   "cell_type": "code",
   "execution_count": 130,
   "id": "3f709550-895b-460d-9149-65226b3ceb78",
   "metadata": {},
   "outputs": [],
   "source": [
    "### Average Distance to each AOI (ignoring Self Saccades)\n",
    "aoiDists = [[] for x in range(len(dlib_sa._saccade_paths))]\n",
    "\n",
    "for aoi in dlib_sa.AOIs: \n",
    "    dists = dlib_sa.saccade_distance_to(aoi,ignore_self = True)\n",
    "    for idx, dist in enumerate(dists):\n",
    "        aoiDists[idx].append(dist)\n",
    "with open(\"dlib_saccade_distance_to_aoi_no_self_nona.csv\",\"w\") as file:\n",
    "    wrtr = csv.writer(file,quoting=csv.QUOTE_MINIMAL)\n",
    "    header = [\"SessionID\",\"ParticipantId\"]\n",
    "    for aoi in dlib_sa.AOIs:\n",
    "        header.append(aoi + \" Count\")\n",
    "        header.append(aoi + \" Mean\")\n",
    "        header.append(aoi + \" Standard Deviation\")\n",
    "    wrtr.writerow(header)\n",
    "    for idx,d in enumerate(aoiDists):\n",
    "        row = [idx,dlib_sa.participants[idx]]\n",
    "        for dist in d:\n",
    "            row.append(len(dist))\n",
    "            row.append(np.mean(dist) if len(dist) > 0 else 0.0)\n",
    "            row.append(np.std(dist) if len(dist) > 0 else 0.0)\n",
    "        wrtr.writerow(row)\n",
    "\n",
    "aoiDists = [[] for x in range(len(europeana_sa._saccade_paths))]\n",
    "\n",
    "for aoi in europeana_sa.AOIs: \n",
    "    dists = europeana_sa.saccade_distance_to(aoi,ignore_self = True)\n",
    "    for idx, dist in enumerate(dists):\n",
    "        aoiDists[idx].append(dist)\n",
    "with open(\"europeana_saccade_distance_to_aoi_no_self_nona.csv\",\"w\") as file:\n",
    "    wrtr = csv.writer(file,quoting=csv.QUOTE_MINIMAL)\n",
    "    header = [\"SessionID\",\"ParticipantId\"]\n",
    "    for aoi in europeana_sa.AOIs:\n",
    "        header.append(aoi + \" Counts\")\n",
    "        header.append(aoi + \" Mean\")\n",
    "        header.append(aoi + \" Standard Deviation\")\n",
    "    wrtr.writerow(header)\n",
    "    for idx,d in enumerate(aoiDists):\n",
    "        row = [idx,europeana_sa.participants[idx]]\n",
    "        for dist in d:\n",
    "            row.append(len(dist))\n",
    "            row.append(np.mean(dist) if len(dist) > 0 else 0.0)\n",
    "            row.append(np.std(dist) if len(dist) > 0 else 0.0)\n",
    "        wrtr.writerow(row)"
   ]
  },
  {
   "cell_type": "code",
   "execution_count": 131,
   "id": "b299a0a6-2632-41d3-9177-1bb8f01e8b0a",
   "metadata": {},
   "outputs": [],
   "source": [
    "### Per Session All-Pairs\n",
    "\n",
    "dlib_aoi_pairs = set()\n",
    "for d in dlib_stats:\n",
    "    for k,v in d[4].items():\n",
    "        dlib_aoi_pairs.add(k)\n",
    "with open(\"dlib_participant_pairs_nona.csv\",\"w\") as file:\n",
    "    wrtr = csv.writer(file,quoting=csv.QUOTE_MINIMAL)\n",
    "    header = [\"SessionID\",\"ParticipantId\"]\n",
    "    for pair in dlib_aoi_pairs:\n",
    "        txt = pair[0] + \" => \" + pair[1]\n",
    "        header.append(txt + \" Count\")\n",
    "        header.append(txt + \" Mean\")\n",
    "        header.append(txt + \" Standard Deviation\")\n",
    "    wrtr.writerow(header)\n",
    "    for idx,session in enumerate(dlib_stats):\n",
    "        pair_data = session[4]\n",
    "        row = [idx,dlib_sa.participants[idx]]\n",
    "        for pair in dlib_aoi_pairs:\n",
    "            if pair in pair_data:\n",
    "                row.append(len(pair_data[pair]))\n",
    "                row.append(np.mean(pair_data[pair]))\n",
    "                row.append(np.std(pair_data[pair]))\n",
    "            else:\n",
    "                row.extend([0,0,0])\n",
    "        wrtr.writerow(row)\n",
    "\n",
    "euro_aoi_pairs = set()\n",
    "for d in europeana_stats:\n",
    "    for k,v in d[4].items():\n",
    "        euro_aoi_pairs.add(k)\n",
    "with open(\"europeana_participant_pairs_nona.csv\",\"w\") as file:\n",
    "    wrtr = csv.writer(file,quoting=csv.QUOTE_MINIMAL)\n",
    "    header = [\"SessionID\",\"ParticipantId\"]\n",
    "    for pair in euro_aoi_pairs:\n",
    "        txt = pair[0] + \" => \" + pair[1]\n",
    "        header.append(txt + \" Count\")\n",
    "        header.append(txt + \" Mean\")\n",
    "        header.append(txt + \" Standard Deviation\")\n",
    "    wrtr.writerow(header)\n",
    "    for idx,session in enumerate(europeana_stats):\n",
    "        pair_data = session[4]\n",
    "        row = [idx,europeana_sa.participants[idx]]\n",
    "        for pair in euro_aoi_pairs:\n",
    "            if pair in pair_data:\n",
    "                row.append(len(pair_data[pair]))\n",
    "                row.append(np.mean(pair_data[pair]))\n",
    "                row.append(np.std(pair_data[pair]))\n",
    "            else:\n",
    "                row.extend([0,0,0])\n",
    "        wrtr.writerow(row)"
   ]
  },
  {
   "cell_type": "markdown",
   "id": "644ecb16-52b1-4c49-9d68-770c8fc0993d",
   "metadata": {},
   "source": [
    "### Save Dwell Time to First Fixation"
   ]
  },
  {
   "cell_type": "code",
   "execution_count": 61,
   "id": "fdfe6b12-7c77-4c36-b64f-60f626da067b",
   "metadata": {},
   "outputs": [],
   "source": [
    "with open(\"dlib_participant_dwell_to_first_aoi.csv\",\"w\") as file:\n",
    "    wrtr = csv.writer(file,quoting=csv.QUOTE_MINIMAL)\n",
    "    header = [\"SessionID\",\"ParticipantId\"]\n",
    "    for aoi in ['Search box','Central text', 'Material - photos']:\n",
    "        header.append(aoi + \" Total\")\n",
    "        header.append(aoi + \" Mean\")\n",
    "    wrtr.writerow(header)\n",
    "    for idx, session in enumerate(dlibpa.first_fixation()):\n",
    "        participant = dlib_sa.participants[idx]\n",
    "        row = [idx,participant]\n",
    "        for aoi in ['Search box','Central text', 'Material - photos']:\n",
    "            if aoi not in session:\n",
    "                row.append(float(\"NaN\"))\n",
    "                row.append(float(\"NaN\"))\n",
    "            else:\n",
    "                data = session[aoi]\n",
    "                row.append(np.sum(data))\n",
    "                row.append(np.nan_to_num(np.mean(data)))\n",
    "        wrtr.writerow(row)\n",
    "\n",
    "with open(\"europeana_participant_dwell_to_first_aoi.csv\",\"w\") as file:\n",
    "    wrtr = csv.writer(file,quoting=csv.QUOTE_MINIMAL)\n",
    "    header = [\"SessionID\",\"ParticipantId\"]\n",
    "    for aoi in ['AOI[Search box]Hit','AOI[Central text]Hit', 'AOI[1st WW collection]Hit']:\n",
    "        header.append(aoi + \" Total\")\n",
    "        header.append(aoi + \" Mean\")\n",
    "    wrtr.writerow(header)\n",
    "    for idx, session in enumerate(europa.first_fixation()):\n",
    "        participant = europeana_sa.participants[idx]\n",
    "        row = [idx,participant]\n",
    "        for aoi in ['AOI[Search box]Hit','AOI[Central text]Hit', 'AOI[1st WW collection]Hit']:\n",
    "            if aoi not in session:\n",
    "                row.append(float(\"NaN\"))\n",
    "                row.append(float(\"NaN\"))\n",
    "            else:\n",
    "                data = session[aoi]\n",
    "                row.append(np.sum(data))\n",
    "                row.append(np.nan_to_num(np.mean(data)))\n",
    "        wrtr.writerow(row)"
   ]
  },
  {
   "cell_type": "code",
   "execution_count": 107,
   "id": "80187fce-5438-46d6-9b47-faf700b6c716",
   "metadata": {},
   "outputs": [
    {
     "name": "stdout",
     "output_type": "stream",
     "text": [
      "Seasion 0, Participant 1: 140.9440834510403\n",
      "Seasion 1, Participant 2: 144.03124660989366\n",
      "Seasion 6, Participant 7: 210.50946016139542\n",
      "Seasion 7, Participant 8: 234.64420223234546\n",
      "Seasion 18, Participant 19: 187.08633122349661\n",
      "Seasion 20, Participant 21: 88.14481674331111\n",
      "Seasion 23, Participant 23: 178.9900111496293\n",
      "Seasion 25, Participant 25: 145.15164484083533\n",
      "Seasion 26, Participant 26: 138.22946367344812\n",
      "Seasion 28, Participant 28: 139.7384204533063\n",
      "Seasion 30, Participant 30: 119.33147112141039\n",
      "Seasion 0, Participant 1: 526.106860905294\n",
      "Seasion 2, Participant 3: 422.19071519871204\n",
      "Seasion 5, Participant 6: 249.96999819978396\n",
      "Seasion 8, Participant 9: 389.30998010576127\n",
      "Seasion 10, Participant 11: 891.9921524318473\n",
      "Seasion 12, Participant 13: 584.27733141035\n",
      "Seasion 15, Participant 16: 546.5473447012619\n",
      "Seasion 17, Participant 18: 188.66481776295078\n",
      "Seasion 22, Participant 23: 379.22714252699984\n",
      "Seasion 24, Participant 25: 537.4765111146719\n",
      "Seasion 27, Participant 28: 514.0547750073567\n",
      "Seasion 29, Participant 30: 383.105729531679\n",
      "Europeana: Mean: 467.74, Median: 468.12 | dLib: Mean:156.98, Median: 144.03\n"
     ]
    }
   ],
   "source": [
    "ddists = dlib_sa.saccade_distance_to('Material - photos',ignore_self = True)\n",
    "dmeans = []\n",
    "for idx, dist in enumerate(ddists):\n",
    "    if len(dist) == 0:\n",
    "        continue\n",
    "    print(\"Seasion {0}, Participant {1}: {2}\".format(idx,  dlib_sa.participants[idx],np.mean(dist)))\n",
    "    dmeans.append(np.mean(dist))\n",
    "\n",
    "edists = europeana_sa.saccade_distance_to('AOI[1st WW collection]Hit',ignore_self = True)\n",
    "emeans = []\n",
    "for idx, dist in enumerate(edists):\n",
    "    if len(dist) == 0:\n",
    "        continue\n",
    "    print(\"Seasion {0}, Participant {1}: {2}\".format(idx,  europeana_sa.participants[idx],np.mean(dist)))\n",
    "    emeans.append(np.mean(dist))\n",
    "\n",
    "\n",
    "print(\"Europeana: Mean: {0:.2f}, Median: {1:.2f} | dLib: Mean:{2:.2f}, Median: {3:.2f}\".format(np.mean(emeans),np.median(emeans),np.mean(dmeans),np.median(dmeans)))"
   ]
  },
  {
   "cell_type": "code",
   "execution_count": 108,
   "id": "f0c99938-3564-4c54-89ba-1718a001f77a",
   "metadata": {},
   "outputs": [
    {
     "name": "stdout",
     "output_type": "stream",
     "text": [
      "Seasion 2, Participant 3: 60.56235931017788\n",
      "Seasion 3, Participant 4: 274.0999278402448\n",
      "Seasion 4, Participant 5: 331.09523007543163\n",
      "Seasion 5, Participant 6: 584.9694522891629\n",
      "Seasion 6, Participant 7: 74.02702209328699\n",
      "Seasion 7, Participant 8: 396.24116774703344\n",
      "Seasion 8, Participant 9: 204.74862636901864\n",
      "Seasion 9, Participant 10: 583.8236034968096\n",
      "Seasion 10, Participant 11: 475.009473589738\n",
      "Seasion 11, Participant 12: 113.82048886204045\n",
      "Seasion 13, Participant 14: 184.77833248811177\n",
      "Seasion 14, Participant 15: 224.07349557215042\n",
      "Seasion 15, Participant 16: 404.8966956771746\n",
      "Seasion 16, Participant 17: 182.39245259260295\n",
      "Seasion 17, Participant 18: 175.12435732852325\n",
      "Seasion 18, Participant 19: 558.5642308633807\n",
      "Seasion 21, Participant 22: 207.1417749337007\n",
      "Seasion 23, Participant 23: 105.9470476567704\n",
      "Seasion 24, Participant 24: 144.3675863897433\n",
      "Seasion 25, Participant 25: 95.44914885751807\n",
      "Seasion 26, Participant 26: 177.94714525104825\n",
      "Seasion 29, Participant 29: 251.3469486431769\n",
      "Seasion 30, Participant 30: 68.12624766350909\n",
      "Seasion 0, Participant 1: 258.87538576490823\n",
      "Seasion 1, Participant 2: 406.55045651042735\n",
      "Seasion 2, Participant 3: 278.58635347443885\n",
      "Seasion 3, Participant 4: 265.9930400878353\n",
      "Seasion 4, Participant 5: 318.8564336718539\n",
      "Seasion 5, Participant 6: 280.63342376536104\n",
      "Seasion 7, Participant 8: 56.753854494650845\n",
      "Seasion 9, Participant 10: 355.8554906926143\n",
      "Seasion 10, Participant 11: 427.5960968599768\n",
      "Seasion 11, Participant 12: 219.11995381226802\n",
      "Seasion 13, Participant 14: 82.05592563563793\n",
      "Seasion 14, Participant 15: 43.9089968002003\n",
      "Seasion 15, Participant 16: 232.81975756966045\n",
      "Seasion 16, Participant 17: 198.76116320851014\n",
      "Seasion 17, Participant 18: 232.86765081559216\n",
      "Seasion 20, Participant 21: 129.46814279968643\n",
      "Seasion 21, Participant 22: 625.8465093214083\n",
      "Seasion 22, Participant 23: 201.20009631516538\n",
      "Seasion 23, Participant 24: 196.79964814570317\n",
      "Seasion 24, Participant 25: 362.519521647921\n",
      "Seasion 25, Participant 26: 35.05709628591621\n",
      "Seasion 27, Participant 28: 151.2159408132785\n",
      "Seasion 28, Participant 29: 150.3595690337\n",
      "Seasion 29, Participant 30: 390.05891245554\n",
      "Europeana: Mean: 245.91, Median: 232.84 | dLib: Mean:255.59, Median: 204.75\n"
     ]
    }
   ],
   "source": [
    "ddists = dlib_sa.saccade_distance_to('Search box',ignore_self = True)\n",
    "dmeans = []\n",
    "for idx, dist in enumerate(ddists):\n",
    "    if len(dist) == 0:\n",
    "        continue\n",
    "    print(\"Seasion {0}, Participant {1}: {2}\".format(idx,  dlib_sa.participants[idx],np.mean(dist)))\n",
    "    dmeans.append(np.mean(dist))\n",
    "\n",
    "edists = europeana_sa.saccade_distance_to('AOI[Search box]Hit',ignore_self = True)\n",
    "emeans = []\n",
    "for idx, dist in enumerate(edists):\n",
    "    if len(dist) == 0:\n",
    "        continue\n",
    "    print(\"Seasion {0}, Participant {1}: {2}\".format(idx,  europeana_sa.participants[idx],np.mean(dist)))\n",
    "    emeans.append(np.mean(dist))\n",
    "\n",
    "\n",
    "print(\"Europeana: Mean: {0:.2f}, Median: {1:.2f} | dLib: Mean:{2:.2f}, Median: {3:.2f}\".format(np.mean(emeans),le(emeans),np.mean(dmeans),np.median(dmeans)))"
   ]
  },
  {
   "cell_type": "code",
   "execution_count": 109,
   "id": "f3883741-de50-402f-8064-b51723ff3661",
   "metadata": {},
   "outputs": [
    {
     "name": "stdout",
     "output_type": "stream",
     "text": [
      "24 23\n"
     ]
    }
   ],
   "source": [
    "print(len(emeans), len(dmeans))"
   ]
  },
  {
   "cell_type": "code",
   "execution_count": 24,
   "id": "2910a887-380a-4188-9831-b166a5769867",
   "metadata": {},
   "outputs": [],
   "source": [
    "boxes = {\"TopLeft\":BoundingBox(0,0,400,100),\"TopCenter\":BoundingBox(400,0,800,100),\"TopRight\":BoundingBox(1200,0,400,100),\n",
    "         \"CenterCenter\":BoundingBox(400,300,800,300),\"BottomRow\":BoundingBox(0,800,1600,100)}"
   ]
  },
  {
   "cell_type": "code",
   "execution_count": 42,
   "id": "d278fee6-2c93-4c76-b994-1ce521385260",
   "metadata": {},
   "outputs": [],
   "source": [
    "from collections import defaultdict"
   ]
  },
  {
   "cell_type": "code",
   "execution_count": 46,
   "id": "90bf05c7-25fb-48da-926f-6d325059b0dc",
   "metadata": {},
   "outputs": [
    {
     "name": "stdout",
     "output_type": "stream",
     "text": [
      "Participant  1: BottomRow\tafter 0 fixations\n",
      "Participant  2: CenterCenter\tafter 1 fixations\n",
      "Participant  3: CenterCenter\tafter 0 fixations\n",
      "Participant  4: CenterCenter\tafter 1 fixations\n",
      "Participant  5: CenterCenter\tafter 1 fixations\n",
      "Participant  6: CenterCenter\tafter 1 fixations\n",
      "Participant  7: No Overlap\tafter 2 fixations\n",
      "Participant  8: CenterCenter\tafter 0 fixations\n",
      "Participant  9: CenterCenter\tafter 0 fixations\n",
      "Participant 10: CenterCenter\tafter 1 fixations\n",
      "Participant 11: CenterCenter\tafter 0 fixations\n",
      "Participant 12: CenterCenter\tafter 1 fixations\n",
      "Participant 13: CenterCenter\tafter 0 fixations\n",
      "Participant 14: CenterCenter\tafter 2 fixations\n",
      "Participant 15: CenterCenter\tafter 0 fixations\n",
      "Participant 16: TopLeft \tafter 1 fixations\n",
      "Participant 17: CenterCenter\tafter 1 fixations\n",
      "Participant 18: TopCenter\tafter 0 fixations\n",
      "Participant 19: BottomRow\tafter 1 fixations\n",
      "Participant 20: CenterCenter\tafter 1 fixations\n",
      "Participant 21: CenterCenter\tafter 0 fixations\n",
      "Participant 22: TopLeft \tafter 0 fixations\n",
      "Participant 23: CenterCenter\tafter 1 fixations\n",
      "Participant 24: CenterCenter\tafter 0 fixations\n",
      "Participant 25: BottomRow\tafter 0 fixations\n",
      "Participant 26: CenterCenter\tafter 0 fixations\n",
      "Participant 27: CenterCenter\tafter 0 fixations\n",
      "Participant 28: CenterCenter\tafter 0 fixations\n",
      "Participant 29: CenterCenter\tafter 0 fixations\n",
      "Participant 30: CenterCenter\tafter 0 fixations\n",
      "BottomRow 3\n",
      "CenterCenter 23\n",
      "No Overlap 1\n",
      "TopLeft 2\n",
      "TopCenter 1\n"
     ]
    }
   ],
   "source": [
    "for idx, box in enumerate(europeana_sa.first_overlapping_bounding_box(boxes)):\n",
    "    print(\"Participant {0:>2}: {1:<8}\\tafter{2:>2} fixations\".format(europeana_sa.participants[idx],box[0],box[1]))\n",
    "counter = defaultdict(int)\n",
    "for i in europeana_sa.first_overlapping_bounding_box(boxes):\n",
    "    counter[i[0]]+=1\n",
    "for k,v in counter.items():\n",
    "    print(k,v)"
   ]
  },
  {
   "cell_type": "code",
   "execution_count": 45,
   "id": "f4f17c73-a0d2-4d98-b1f6-1bca1ba6037e",
   "metadata": {
    "scrolled": true
   },
   "outputs": [
    {
     "name": "stdout",
     "output_type": "stream",
     "text": [
      "Participant  1: BottomRow\tafter 5 fixations\n",
      "Participant  2: CenterCenter\tafter 0 fixations\n",
      "Participant  3: TopLeft \tafter 1 fixations\n",
      "Participant  4: CenterCenter\tafter 1 fixations\n",
      "Participant  5: TopCenter\tafter 0 fixations\n",
      "Participant  6: TopLeft \tafter 0 fixations\n",
      "Participant  7: TopLeft \tafter 0 fixations\n",
      "Participant  8: TopCenter\tafter 2 fixations\n",
      "Participant  9: TopCenter\tafter 2 fixations\n",
      "Participant 10: TopCenter\tafter 0 fixations\n",
      "Participant 11: TopCenter\tafter 0 fixations\n",
      "Participant 12: TopCenter\tafter 0 fixations\n",
      "Participant 13: CenterCenter\tafter 0 fixations\n",
      "Participant 14: CenterCenter\tafter 0 fixations\n",
      "Participant 15: CenterCenter\tafter 0 fixations\n",
      "Participant 16: TopCenter\tafter 1 fixations\n",
      "Participant 17: CenterCenter\tafter 0 fixations\n",
      "Participant 18: TopRight\tafter 0 fixations\n",
      "Participant 19: CenterCenter\tafter 0 fixations\n",
      "Participant 20: TopLeft \tafter 0 fixations\n",
      "Participant 21: TopLeft \tafter 0 fixations\n",
      "Participant 22: TopLeft \tafter 0 fixations\n",
      "Participant 23: CenterCenter\tafter 0 fixations\n",
      "Participant 24: TopCenter\tafter 0 fixations\n",
      "Participant 25: TopLeft \tafter 0 fixations\n",
      "Participant 26: CenterCenter\tafter 1 fixations\n",
      "Participant 27: TopCenter\tafter 0 fixations\n",
      "Participant 28: CenterCenter\tafter 0 fixations\n",
      "Participant 29: CenterCenter\tafter 1 fixations\n",
      "Participant 30: TopLeft \tafter 0 fixations\n",
      "BottomRow 1\n",
      "CenterCenter 11\n",
      "TopLeft 8\n",
      "TopCenter 9\n",
      "TopRight 1\n"
     ]
    }
   ],
   "source": [
    "for idx, box in enumerate(dlib_sa.first_overlapping_bounding_box(boxes)):\n",
    "    print(\"Participant {0:>2}: {1:<8}\\tafter{2:>2} fixations\".format(dlib_sa.participants[idx],box[0],box[1]))\n",
    "counter = defaultdict(int)\n",
    "for i in dlib_sa.first_overlapping_bounding_box(boxes):\n",
    "    counter[i[0]]+=1\n",
    "for k,v in counter.items():\n",
    "    print(k,v)"
   ]
  },
  {
   "cell_type": "code",
   "execution_count": 50,
   "id": "89d88e7c-37f5-43b8-aedf-063b0b1d10cb",
   "metadata": {},
   "outputs": [
    {
     "name": "stdout",
     "output_type": "stream",
     "text": [
      "Participant 1: Same (Euro: BottomRow dLib: BottomRow)\n",
      "Participant 2: Same (Euro: CenterCenter dLib: CenterCenter)\n",
      "Participant 3: Diff (Euro: CenterCenter dLib: TopLeft)\n",
      "Participant 4: Same (Euro: CenterCenter dLib: CenterCenter)\n",
      "Participant 5: Diff (Euro: CenterCenter dLib: TopCenter)\n",
      "Participant 6: Diff (Euro: CenterCenter dLib: TopLeft)\n",
      "Participant 7: Diff (Euro: No Overlap dLib: TopLeft)\n",
      "Participant 8: Diff (Euro: CenterCenter dLib: TopCenter)\n",
      "Participant 9: Diff (Euro: CenterCenter dLib: TopCenter)\n",
      "Participant 10: Diff (Euro: CenterCenter dLib: TopCenter)\n",
      "Participant 11: Diff (Euro: CenterCenter dLib: TopCenter)\n",
      "Participant 12: Diff (Euro: CenterCenter dLib: TopCenter)\n",
      "Participant 13: Same (Euro: CenterCenter dLib: CenterCenter)\n",
      "Participant 14: Same (Euro: CenterCenter dLib: CenterCenter)\n",
      "Participant 15: Same (Euro: CenterCenter dLib: CenterCenter)\n",
      "Participant 16: Diff (Euro: TopLeft dLib: TopCenter)\n",
      "Participant 17: Same (Euro: CenterCenter dLib: CenterCenter)\n",
      "Participant 18: Diff (Euro: TopCenter dLib: TopRight)\n",
      "Participant 19: Diff (Euro: BottomRow dLib: CenterCenter)\n",
      "Participant 20: Diff (Euro: CenterCenter dLib: TopLeft)\n",
      "Participant 21: Diff (Euro: CenterCenter dLib: TopLeft)\n",
      "Participant 22: Same (Euro: TopLeft dLib: TopLeft)\n",
      "Participant 23: Same (Euro: CenterCenter dLib: CenterCenter)\n",
      "Participant 24: Diff (Euro: CenterCenter dLib: TopCenter)\n",
      "Participant 25: Diff (Euro: BottomRow dLib: TopLeft)\n",
      "Participant 26: Same (Euro: CenterCenter dLib: CenterCenter)\n",
      "Participant 27: Diff (Euro: CenterCenter dLib: TopCenter)\n",
      "Participant 28: Same (Euro: CenterCenter dLib: CenterCenter)\n",
      "Participant 29: Same (Euro: CenterCenter dLib: CenterCenter)\n",
      "Participant 30: Diff (Euro: CenterCenter dLib: TopLeft)\n",
      "defaultdict(<class 'int'>, {True: 12, False: 18})\n"
     ]
    }
   ],
   "source": [
    "counts = defaultdict(int)\n",
    "for idx,pairs in enumerate(zip(europeana_sa.first_overlapping_bounding_box(boxes),dlib_sa.first_overlapping_bounding_box(boxes))):\n",
    "    compared = pairs[0][0] == pairs[1][0]\n",
    "    counts[compared] += 1\n",
    "    print(\"Participant {0}: {3} (Euro: {1} dLib: {2})\".format(dlib_sa.participants[idx],pairs[0][0],pairs[1][0], \"Same\" if compared else \"Diff\"))\n",
    "print(counts)"
   ]
  },
  {
   "cell_type": "code",
   "execution_count": null,
   "id": "7aa60550-9137-4394-bddf-0303fb9cc5a7",
   "metadata": {},
   "outputs": [],
   "source": []
  }
 ],
 "metadata": {
  "kernelspec": {
   "display_name": "Python 3 (ipykernel)",
   "language": "python",
   "name": "python3"
  },
  "language_info": {
   "codemirror_mode": {
    "name": "ipython",
    "version": 3
   },
   "file_extension": ".py",
   "mimetype": "text/x-python",
   "name": "python",
   "nbconvert_exporter": "python",
   "pygments_lexer": "ipython3",
   "version": "3.9.16"
  }
 },
 "nbformat": 4,
 "nbformat_minor": 5
}
