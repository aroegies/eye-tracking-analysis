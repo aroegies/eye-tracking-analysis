{
 "cells": [
  {
   "cell_type": "code",
   "execution_count": 1,
   "id": "3635a046-b46e-4f63-959f-20d506ee8d21",
   "metadata": {},
   "outputs": [],
   "source": [
    "%load_ext autoreload\n",
    "%autoreload 2\n",
    "    \n",
    "from path_analyzer import PathAnalyzer\n",
    "from saccade_analyzer import SaccadeAnalyzer, BoundingBox\n",
    "import numpy as np"
   ]
  },
  {
   "cell_type": "code",
   "execution_count": 5,
   "id": "d48d0667-a70b-4448-aba5-e2fc34f17681",
   "metadata": {},
   "outputs": [
    {
     "data": {
      "text/plain": [
       "2"
      ]
     },
     "execution_count": 5,
     "metadata": {},
     "output_type": "execute_result"
    }
   ],
   "source": [
    "spa = SaccadeAnalyzer(xlsx_file=\"../example-export.xlsx\")\n",
    "len(spa._saccade_paths)"
   ]
  },
  {
   "cell_type": "markdown",
   "id": "56ae84ce-cfbb-4774-971c-1548c67de9aa",
   "metadata": {},
   "source": [
    "### Print the paths in the test file with the timestamp of when the fixation happened"
   ]
  },
  {
   "cell_type": "code",
   "execution_count": 6,
   "id": "b731737d-4d54-439e-9602-c79e8149d21a",
   "metadata": {},
   "outputs": [
    {
     "name": "stdout",
     "output_type": "stream",
     "text": [
      "Session 0\n",
      " => AOI[Other collections]Hit\n",
      "  => AOI[Other collections]Hit\n",
      "   => AOI[Central text]Hit\n",
      "    => AOI[Browse]Hit\n",
      "     => AOI[Search box]Hit\n",
      "      => AOI[Search box]Hit\n",
      "       => AOI[Other collections]Hit\n",
      "        => AOI[Central text]Hit\n",
      "         => AOI[Search box]Hit\n",
      "          => AOI[Other collections]Hit\n",
      "           => AOI[Other collections]Hit\n",
      "            => AOI[Other collections]Hit\n",
      "             => AOI[Central text]Hit\n",
      "              => AOI[Search box]Hit\n",
      "               => AOI[Background image]Hit\n",
      "                => AOI[Other collections]Hit\n",
      "                 => AOI[Background image]Hit\n",
      "                  => AOI[Central text]Hit\n",
      "                   => NA\n",
      "                    => AOI[Browse]Hit\n",
      "                     => AOI[Search box]Hit\n",
      "                      => AOI[Search box]Hit\n",
      "                       => AOI[1st WW collection]Hit\n",
      "                        => AOI[Central text]Hit\n",
      "                         => AOI[Background image]Hit\n",
      "                          => AOI[Central text]Hit\n"
     ]
    }
   ],
   "source": [
    "spa.print_paths()"
   ]
  },
  {
   "cell_type": "markdown",
   "id": "77b7d8df-8f87-4b68-a879-2b4880ce37e3",
   "metadata": {},
   "source": [
    "***"
   ]
  },
  {
   "cell_type": "markdown",
   "id": "b0b18abc-b236-4216-89f4-5eff535fc46c",
   "metadata": {},
   "source": [
    "### Saccade distance to Search Box mean and standard deviation per session"
   ]
  },
  {
   "cell_type": "code",
   "execution_count": 8,
   "id": "69516d8c-d98a-4821-8e6d-11b0e31c0c3c",
   "metadata": {},
   "outputs": [
    {
     "name": "stdout",
     "output_type": "stream",
     "text": [
      "Session 0: 442.09 257.84\n",
      "Session 1: 707.97 415.49\n",
      "Mean of Mean: 575.03\n",
      "Mean # saccades: 6.00\n"
     ]
    }
   ],
   "source": [
    "distances_to = spa.saccade_distance_to('AOI[Search box]Hit',ignore_self=True)\n",
    "means = []\n",
    "cmeans = []\n",
    "for idx, session in enumerate(eu_histo):\n",
    "    means.append(np.mean(session) if len(session) > 0 else 0)\n",
    "    cmeans.append(len(session))\n",
    "    print(\"Session {0}: {1:.2f} {2:.2f}\".format(idx,np.mean(session) if len(session) > 0 else 0,np.std(session) if len(session)>0 else 0))\n",
    "print(\"Mean of Mean: {0:.2f}\".format(np.mean(means)))\n",
    "print(\"Mean # saccades: {0:.2f}\".format(np.mean(cmeans)))"
   ]
  },
  {
   "cell_type": "markdown",
   "id": "a58235da-af87-43da-9a70-0524ab32d98f",
   "metadata": {},
   "source": [
    "***"
   ]
  },
  {
   "cell_type": "markdown",
   "id": "5340f936-cde0-4f13-bb15-cc78cc871705",
   "metadata": {},
   "source": [
    "### Saccade Path Statistics, Total Length, Mean and Avg Per Saccade"
   ]
  },
  {
   "cell_type": "code",
   "execution_count": 9,
   "id": "d0c09748-379d-477d-95e1-35df3c24a718",
   "metadata": {},
   "outputs": [
    {
     "name": "stdout",
     "output_type": "stream",
     "text": [
      "Session 0, Total: 15831.34; Mean: 633.25 (381.08)\n",
      "Session 1, Total: 26858.95; Mean: 789.97 (409.57)\n"
     ]
    }
   ],
   "source": [
    "saccade_stats = spa.saccade_path_stats()\n",
    "for d in saccade_stats:\n",
    "    print(\"Session {0}, Total: {1:.2f}; Mean: {2:.2f} ({3:.2f})\".format(d[0],d[1],d[2],d[3]))"
   ]
  },
  {
   "cell_type": "markdown",
   "id": "5dbe3231-8459-474f-8967-f872cce2d704",
   "metadata": {},
   "source": [
    "***"
   ]
  },
  {
   "cell_type": "markdown",
   "id": "8375a1c3-8d6e-4a78-b46f-e3c779f24031",
   "metadata": {},
   "source": [
    "### Participant Saccade Path Length and Number of Fixations\n"
   ]
  },
  {
   "cell_type": "code",
   "execution_count": 10,
   "id": "a0b63e76-c62d-4083-8f00-75a705f243b9",
   "metadata": {},
   "outputs": [
    {
     "name": "stdout",
     "output_type": "stream",
     "text": [
      "Session 0, Participant 1| Total: 15831.34; Fixations: 26\n",
      "Session 1, Participant 2| Total: 26858.95; Fixations: 35\n"
     ]
    }
   ],
   "source": [
    "for d in saccade_stats:\n",
    "    print(\"Session {0}, Participant {3}| Total: {1:.2f}; Fixations: {2}\".format(d[0],d[1],len(spa._session_paths[d[0]]),spa.participants[d[0]]))"
   ]
  },
  {
   "cell_type": "markdown",
   "id": "ca848624-ba44-4825-8694-ad63012db822",
   "metadata": {},
   "source": [
    "***"
   ]
  },
  {
   "cell_type": "markdown",
   "id": "a772ae0e-91e9-4916-928d-3ff282b2b978",
   "metadata": {},
   "source": [
    "### Saccade average distance between fixations and counts across sessions"
   ]
  },
  {
   "cell_type": "code",
   "execution_count": 13,
   "id": "ba4ca9c4-d3e9-46d9-b391-5003eb200fa1",
   "metadata": {},
   "outputs": [
    {
     "name": "stdout",
     "output_type": "stream",
     "text": [
      "Avg Length: 1174.71 (216.03) | Counts: 7 | ('AOI[Search box]Hit', 'AOI[Other collections]Hit')\n",
      "Avg Length: 138.97 (108.32) | Counts: 5 | ('AOI[Search box]Hit', 'AOI[Search box]Hit')\n",
      "Avg Length: 736.73 (168.47) | Counts: 4 | ('AOI[Other collections]Hit', 'AOI[Other collections]Hit')\n",
      "Avg Length: 1244.38 (124.17) | Counts: 4 | ('AOI[Other collections]Hit', 'AOI[Background image]Hit')\n",
      "Avg Length: 620.92 (223.48) | Counts: 3 | ('AOI[Other collections]Hit', 'AOI[Central text]Hit')\n",
      "Avg Length: 679.05 (167.33) | Counts: 3 | ('AOI[Other collections]Hit', 'AOI[Search box]Hit')\n",
      "Avg Length: 695.51 (6.49) | Counts: 2 | ('AOI[Browse]Hit', 'AOI[Search box]Hit')\n",
      "Avg Length: 188.67 (66.88) | Counts: 2 | ('AOI[Central text]Hit', 'AOI[Search box]Hit')\n",
      "Avg Length: 270.02 (67.98) | Counts: 2 | ('AOI[Search box]Hit', 'AOI[Background image]Hit')\n",
      "Avg Length: 1057.99 (6.48) | Counts: 2 | ('AOI[Background image]Hit', 'AOI[Other collections]Hit')\n",
      "Avg Length: 270.57 (99.28) | Counts: 2 | ('AOI[Background image]Hit', 'AOI[Central text]Hit')\n",
      "Avg Length: 700.18 (82.89) | Counts: 2 | ('AOI[Search box]Hit', 'AOI[1st WW collection]Hit')\n",
      "Avg Length: 329.01 (32.93) | Counts: 2 | ('AOI[Background image]Hit', 'AOI[Search box]Hit')\n",
      "Avg Length: 747.02 (81.15) | Counts: 2 | ('AOI[Background image]Hit', 'AOI[1st WW collection]Hit')\n"
     ]
    }
   ],
   "source": [
    "from collections import defaultdict\n",
    "counts = defaultdict(list)\n",
    "for d in saccade_stats:\n",
    "    for k,v in d[4].items():\n",
    "        counts[k].extend(v)\n",
    "\n",
    "pairs = []\n",
    "for k,v in counts.items():\n",
    "    if len(v) <= 1:\n",
    "        continue\n",
    "    pairs.append(tuple([k,np.mean(v),np.std(v),len(v)]))\n",
    "pairs = sorted(pairs,key = lambda x: x[3],reverse=True)\n",
    "\n",
    "for elt in pairs:\n",
    "    print(\"Avg Length: {0:.2f} ({1:.2f}) | Counts: {2} | {3}\".format(elt[1],elt[2],elt[3],elt[0]))"
   ]
  },
  {
   "cell_type": "markdown",
   "id": "87a35726-a2a7-4319-ba10-288ca1d3e794",
   "metadata": {},
   "source": [
    "***"
   ]
  },
  {
   "cell_type": "markdown",
   "id": "f35135a3-3276-432a-84e7-e012b2ac8072",
   "metadata": {},
   "source": [
    "### Aggregate Saccade Path Distance to First Occurrence of Each AoI, mean and standard deviation¶"
   ]
  },
  {
   "cell_type": "code",
   "execution_count": 17,
   "id": "1d5de019-dae0-4581-91e9-bc3740c9b2f6",
   "metadata": {},
   "outputs": [
    {
     "name": "stdout",
     "output_type": "stream",
     "text": [
      "AOI[Other collections]Hit: 1530.09 (788.6076255900248)\n",
      "AOI[Central text]Hit: 2823.38 (1591.5531693733853)\n",
      "AOI[Browse]Hit: 8572.49 (6592.590910421033)\n",
      "AOI[Search box]Hit: 4556.54 (1874.6394089748978)\n",
      "AOI[Background image]Hit: 4900.19 (3633.0033368015243)\n",
      "NA: 12136.46 (0.0)\n",
      "AOI[1st WW collection]Hit: 13276.71 (1508.1536277529203)\n",
      "AOI[Logo]Hit: 3769.87 (0.0)\n",
      "AOI[News]Hit: 18138.22 (0.0)\n",
      "AOI[Menu1]Hit: 23046.07 (0.0)\n"
     ]
    }
   ],
   "source": [
    "firsts = spa.first_saccade_distance()\n",
    "first_aggs = defaultdict(list)\n",
    "for session in firsts:\n",
    "    for k,v in session.items():\n",
    "        first_aggs[k].append(v)\n",
    "\n",
    "for k,v in first_aggs.items():\n",
    "    print(\"{0}: {1:.2f} ({2})\".format(k,np.mean(v),np.std(v)))\n"
   ]
  }
 ],
 "metadata": {
  "kernelspec": {
   "display_name": "Python 3 (ipykernel)",
   "language": "python",
   "name": "python3"
  },
  "language_info": {
   "codemirror_mode": {
    "name": "ipython",
    "version": 3
   },
   "file_extension": ".py",
   "mimetype": "text/x-python",
   "name": "python",
   "nbconvert_exporter": "python",
   "pygments_lexer": "ipython3",
   "version": "3.9.16"
  }
 },
 "nbformat": 4,
 "nbformat_minor": 5
}
