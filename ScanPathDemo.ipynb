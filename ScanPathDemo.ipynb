{
 "cells": [
  {
   "cell_type": "code",
   "execution_count": 57,
   "id": "3635a046-b46e-4f63-959f-20d506ee8d21",
   "metadata": {},
   "outputs": [
    {
     "name": "stdout",
     "output_type": "stream",
     "text": [
      "The autoreload extension is already loaded. To reload it, use:\n",
      "  %reload_ext autoreload\n"
     ]
    }
   ],
   "source": [
    "%load_ext autoreload\n",
    "%autoreload 2\n",
    "    \n",
    "from path_analyzer import PathAnalyzer\n",
    "import numpy as np"
   ]
  },
  {
   "cell_type": "code",
   "execution_count": 58,
   "id": "d48d0667-a70b-4448-aba5-e2fc34f17681",
   "metadata": {},
   "outputs": [],
   "source": [
    "spa = PathAnalyzer(tsv_file='test.tsv')"
   ]
  },
  {
   "cell_type": "markdown",
   "id": "56ae84ce-cfbb-4774-971c-1548c67de9aa",
   "metadata": {},
   "source": [
    "### Print the paths in the test file with the timestamp of when the fixation happened"
   ]
  },
  {
   "cell_type": "code",
   "execution_count": 59,
   "id": "b731737d-4d54-439e-9602-c79e8149d21a",
   "metadata": {},
   "outputs": [
    {
     "name": "stdout",
     "output_type": "stream",
     "text": [
      "Session 0: AOI_4 (0ms) => AOI_1 (5ms) => AOI_2 (10ms) => AOI_3 (15ms)\n",
      "Session 1: AOI_2 (0ms) => AOI_1 (5ms) => NA (10ms) => AOI_3 (15ms)\n",
      "Session 2: AOI_4 (0ms) => AOI_1 (5ms) => NA (10ms) => AOI_3 (15ms)\n",
      "Session 3: AOI_4 (0ms) => AOI_4 (5ms) => NA (10ms) => AOI_3 (15ms) => AOI_4 (20ms)\n"
     ]
    }
   ],
   "source": [
    "spa.print_paths()"
   ]
  },
  {
   "cell_type": "markdown",
   "id": "77b7d8df-8f87-4b68-a879-2b4880ce37e3",
   "metadata": {},
   "source": [
    "***"
   ]
  },
  {
   "cell_type": "markdown",
   "id": "b0b18abc-b236-4216-89f4-5eff535fc46c",
   "metadata": {},
   "source": [
    "### Print the exact path from fixation on **AOI_2** to **AOI_3** for each scan path"
   ]
  },
  {
   "cell_type": "code",
   "execution_count": 60,
   "id": "69516d8c-d98a-4821-8e6d-11b0e31c0c3c",
   "metadata": {},
   "outputs": [
    {
     "name": "stdout",
     "output_type": "stream",
     "text": [
      "Total Paths: 1\n",
      "Per Path: [{'session': 0, 'occurrences': 1}, {'session': 1, 'occurrences': 0}, {'session': 2, 'occurrences': 0}, {'session': 3, 'occurrences': 0}]\n"
     ]
    }
   ],
   "source": [
    "total, per_path = spa.approximate_sequence(['AOI_2','AOI_3'])\n",
    "print(f\"Total Paths: {total}\")\n",
    "print(f\"Per Path: {per_path}\")"
   ]
  },
  {
   "cell_type": "markdown",
   "id": "a58235da-af87-43da-9a70-0524ab32d98f",
   "metadata": {},
   "source": [
    "***"
   ]
  },
  {
   "cell_type": "markdown",
   "id": "5340f936-cde0-4f13-bb15-cc78cc871705",
   "metadata": {},
   "source": [
    "### Print the numbers of paths from fixation on **AOI_2** to **AOI_3** for each scan path with at most one fixation between them"
   ]
  },
  {
   "cell_type": "code",
   "execution_count": 61,
   "id": "d0c09748-379d-477d-95e1-35df3c24a718",
   "metadata": {},
   "outputs": [
    {
     "name": "stdout",
     "output_type": "stream",
     "text": [
      "Total Paths: 1\n",
      "Per Path: [{'session': 0, 'occurrences': 1}, {'session': 1, 'occurrences': 0}, {'session': 2, 'occurrences': 0}, {'session': 3, 'occurrences': 0}]\n"
     ]
    }
   ],
   "source": [
    "total, per_path = spa.approximate_sequence(['AOI_2','AOI_3'],1)\n",
    "print(f\"Total Paths: {total}\")\n",
    "print(f\"Per Path: {per_path}\")"
   ]
  },
  {
   "cell_type": "markdown",
   "id": "5dbe3231-8459-474f-8967-f872cce2d704",
   "metadata": {},
   "source": [
    "***"
   ]
  },
  {
   "cell_type": "markdown",
   "id": "8375a1c3-8d6e-4a78-b46f-e3c779f24031",
   "metadata": {},
   "source": [
    "### Print the numbers of paths from fixation on **AOI_2** to **AOI_3** for each scan path with at most two fixations between them"
   ]
  },
  {
   "cell_type": "code",
   "execution_count": 62,
   "id": "a0b63e76-c62d-4083-8f00-75a705f243b9",
   "metadata": {},
   "outputs": [
    {
     "name": "stdout",
     "output_type": "stream",
     "text": [
      "Total Paths: 2\n",
      "Per Path: [{'session': 0, 'occurrences': 1}, {'session': 1, 'occurrences': 1}, {'session': 2, 'occurrences': 0}, {'session': 3, 'occurrences': 0}]\n"
     ]
    }
   ],
   "source": [
    "total, per_path = spa.approximate_sequence(['AOI_2','AOI_3'],2)\n",
    "print(f\"Total Paths: {total}\")\n",
    "print(f\"Per Path: {per_path}\")"
   ]
  },
  {
   "cell_type": "markdown",
   "id": "ca848624-ba44-4825-8694-ad63012db822",
   "metadata": {},
   "source": [
    "***"
   ]
  },
  {
   "cell_type": "markdown",
   "id": "a772ae0e-91e9-4916-928d-3ff282b2b978",
   "metadata": {},
   "source": [
    "### Print the number of AOIs that were revisited in each path, the average intervening path length, and average time between revisists"
   ]
  },
  {
   "cell_type": "code",
   "execution_count": 63,
   "id": "ba4ca9c4-d3e9-46d9-b391-5003eb200fa1",
   "metadata": {},
   "outputs": [
    {
     "name": "stdout",
     "output_type": "stream",
     "text": [
      "Session: 3, AOI: AOI_4 revisit count: 2; mean revisit latency: 10.0; mean revisit path length: 1.0 \n"
     ]
    }
   ],
   "source": [
    "revisits = spa.aoi_revisits()\n",
    "for sessid, all_revisits in revisits.items():\n",
    "    for aoi, revisits in all_revisits.items():\n",
    "        meanTime = np.nan_to_num(np.mean([ visit[2] for visit in revisits[1]]))\n",
    "        meanLength = np.nan_to_num(np.mean([len(visit[3]) for visit in revisits[1]]))\n",
    "        print(\"Session: {0}, AOI: {1} revisit count: {2}; mean revisit latency: {3}; mean revisit path length: {4} \".format(sessid,aoi,revisits[0],meanTime,meanLength))"
   ]
  },
  {
   "cell_type": "markdown",
   "id": "87a35726-a2a7-4319-ba10-288ca1d3e794",
   "metadata": {},
   "source": [
    "***"
   ]
  },
  {
   "cell_type": "markdown",
   "id": "f35135a3-3276-432a-84e7-e012b2ac8072",
   "metadata": {},
   "source": [
    "### Print the most common subpaths of at most length 3 and with at most two intervening fixations between items in the path"
   ]
  },
  {
   "cell_type": "code",
   "execution_count": 64,
   "id": "1d5de019-dae0-4581-91e9-bc3740c9b2f6",
   "metadata": {},
   "outputs": [
    {
     "name": "stdout",
     "output_type": "stream",
     "text": [
      "Count: 3; Path AOI_1 => AOI_3\n",
      "Count: 3; Path AOI_4 => AOI_3\n",
      "Count: 3; Path NA => AOI_3\n",
      "Count: 2; Path AOI_4 => AOI_1\n",
      "Count: 2; Path AOI_4 => AOI_1 => AOI_3\n",
      "Count: 2; Path AOI_2 => AOI_3\n",
      "Count: 2; Path AOI_1 => NA\n",
      "Count: 2; Path AOI_1 => NA => AOI_3\n",
      "Count: 2; Path AOI_4 => NA\n",
      "Count: 2; Path AOI_4 => NA => AOI_3\n"
     ]
    }
   ],
   "source": [
    "mostCommon,sessionPaths = spa.common_subsequences(max_ngram=3,max_gap=2)\n",
    "for i in mostCommon:\n",
    "    print(\"Count: {0}; Path {1}\".format(i[1],i[0]))"
   ]
  },
  {
   "cell_type": "markdown",
   "id": "001ba182-7b2a-4964-b0f9-6e6441f472fd",
   "metadata": {},
   "source": [
    "### For each session, print what most common subpaths it contains"
   ]
  },
  {
   "cell_type": "code",
   "execution_count": 65,
   "id": "864adedc-54e6-4852-a5d9-05bfb79f507b",
   "metadata": {},
   "outputs": [
    {
     "name": "stdout",
     "output_type": "stream",
     "text": [
      "Session 0 Common subpaths: {AOI_1 => AOI_3, AOI_4 => AOI_1, AOI_4 => AOI_3, AOI_4 => AOI_1 => AOI_3, AOI_2 => AOI_3}\n",
      "Session 1 Common subpaths: {AOI_1 => AOI_3, NA => AOI_3, AOI_1 => NA, AOI_2 => AOI_3, AOI_1 => NA => AOI_3}\n",
      "Session 2 Common subpaths: {AOI_4 => NA, AOI_4 => NA => AOI_3, AOI_1 => AOI_3, AOI_4 => AOI_1, AOI_4 => AOI_3, NA => AOI_3, AOI_4 => AOI_1 => AOI_3, AOI_1 => NA, AOI_1 => NA => AOI_3}\n",
      "Session 3 Common subpaths: {AOI_4 => NA, AOI_4 => NA => AOI_3, NA => AOI_3, AOI_4 => AOI_3}\n"
     ]
    }
   ],
   "source": [
    "for sessid, commonPaths in sessionPaths.items():\n",
    "    print(\"Session {0} Common subpaths: {1}\".format(sessid,commonPaths))"
   ]
  }
 ],
 "metadata": {
  "kernelspec": {
   "display_name": "Python 3 (ipykernel)",
   "language": "python",
   "name": "python3"
  },
  "language_info": {
   "codemirror_mode": {
    "name": "ipython",
    "version": 3
   },
   "file_extension": ".py",
   "mimetype": "text/x-python",
   "name": "python",
   "nbconvert_exporter": "python",
   "pygments_lexer": "ipython3",
   "version": "3.9.16"
  }
 },
 "nbformat": 4,
 "nbformat_minor": 5
}
