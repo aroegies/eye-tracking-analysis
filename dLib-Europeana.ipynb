{
 "cells": [
  {
   "cell_type": "code",
   "execution_count": 2,
   "id": "8db3eea0-65f7-40cc-a0a8-efacc23f5801",
   "metadata": {},
   "outputs": [],
   "source": [
    "%load_ext autoreload\n",
    "%autoreload 2\n",
    "    \n",
    "from path_analyzer import PathAnalyzer\n",
    "from saccade_analyzer import SaccadeAnalyzer\n",
    "import numpy as np"
   ]
  },
  {
   "cell_type": "code",
   "execution_count": 3,
   "id": "c329000b-21a5-4bba-bee8-e5863fc76b2f",
   "metadata": {},
   "outputs": [],
   "source": [
    "dlib_sa = SaccadeAnalyzer(xlsx_file=\"dlb-trial.xlsx\")"
   ]
  },
  {
   "cell_type": "code",
   "execution_count": 4,
   "id": "4eaa369e-55de-42f1-8055-af237032327f",
   "metadata": {},
   "outputs": [
    {
     "name": "stderr",
     "output_type": "stream",
     "text": [
      "/Users/aroegies/scanpath/lib/python3.9/site-packages/openpyxl/styles/stylesheet.py:226: UserWarning: Workbook contains no default style, apply openpyxl's default\n",
      "  warn(\"Workbook contains no default style, apply openpyxl's default\")\n"
     ]
    }
   ],
   "source": [
    "europeana_sa = SaccadeAnalyzer(xlsx_file='europeana-trial.xlsx')"
   ]
  },
  {
   "cell_type": "markdown",
   "id": "505ec332-0f24-4ce3-9028-47977dd1c669",
   "metadata": {},
   "source": [
    "***"
   ]
  },
  {
   "cell_type": "markdown",
   "id": "1cb051a6-d7a5-43da-b982-1204f25f743c",
   "metadata": {},
   "source": [
    "## dLib Saccade Distance to Search Box Mean and Standard Deviation Per Session"
   ]
  },
  {
   "cell_type": "code",
   "execution_count": 5,
   "id": "468f7b7e-cca7-4952-8173-416b6603b769",
   "metadata": {},
   "outputs": [],
   "source": [
    "histo = dlib_sa.saccade_distance_to('Search box',ignore_self = True)"
   ]
  },
  {
   "cell_type": "code",
   "execution_count": 6,
   "id": "8450c709-fe27-4157-8558-eb7171b822c7",
   "metadata": {},
   "outputs": [
    {
     "name": "stdout",
     "output_type": "stream",
     "text": [
      "Session 0: 0.00 0.00\n",
      "Session 1: 0.00 0.00\n",
      "Session 2: 66.47 45.23\n",
      "Session 3: 384.67 272.94\n",
      "Session 4: 444.06 458.54\n",
      "Session 5: 712.29 291.39\n",
      "Session 6: 104.65 0.00\n",
      "Session 7: 418.96 329.21\n",
      "Session 8: 284.26 0.00\n",
      "Session 9: 125.87 0.00\n",
      "Session 10: 671.75 0.00\n",
      "Session 11: 133.41 72.94\n",
      "Session 12: 0.00 0.00\n",
      "Session 13: 129.16 99.67\n",
      "Session 14: 86.27 55.15\n",
      "Session 15: 510.53 477.50\n",
      "Session 16: 205.91 125.76\n",
      "Session 17: 232.78 290.51\n",
      "Session 18: 89.10 0.00\n",
      "Session 19: 0.00 0.00\n",
      "Session 20: 0.00 0.00\n",
      "Session 21: 211.66 95.12\n",
      "Session 22: 0.00 0.00\n",
      "Session 23: 96.87 91.22\n",
      "Session 24: 199.40 0.00\n",
      "Session 25: 100.29 122.58\n",
      "Session 26: 205.63 168.24\n",
      "Session 27: 0.00 0.00\n",
      "Session 28: 0.00 0.00\n",
      "Session 29: 154.96 168.80\n",
      "Session 30: 80.14 37.35\n",
      "Mean of Mean: 182.23\n",
      "Mean # saccades: 2.61\n"
     ]
    }
   ],
   "source": [
    "means = []\n",
    "cmeans = []\n",
    "for idx, session in enumerate(histo):\n",
    "    means.append(np.mean(session) if len(session) > 0 else 0)\n",
    "    cmeans.append(len(session))\n",
    "    print(\"Session {0}: {1:.2f} {2:.2f}\".format(idx,np.mean(session) if len(session) > 0 else 0,np.std(session) if len(session)>0 else 0))\n",
    "print(\"Mean of Mean: {0:.2f}\".format(np.mean(means)))\n",
    "print(\"Mean # saccades: {0:.2f}\".format(np.mean(cmeans)))"
   ]
  },
  {
   "cell_type": "markdown",
   "id": "997ca4a9-040a-41a9-92d4-aa3e99f6d1a7",
   "metadata": {},
   "source": [
    "## Europeana Distance to Search Box Mean and Standard Deviation Per Session"
   ]
  },
  {
   "cell_type": "code",
   "execution_count": 7,
   "id": "31221dd9-abab-441b-809a-e23d7f9a2bb8",
   "metadata": {},
   "outputs": [],
   "source": [
    "eu_histo=europeana_sa.saccade_distance_to('AOI[Search box]Hit',ignore_self=True)"
   ]
  },
  {
   "cell_type": "code",
   "execution_count": 8,
   "id": "7ab5ed67-9d44-4463-8c58-58f8f2bd29cf",
   "metadata": {},
   "outputs": [
    {
     "name": "stdout",
     "output_type": "stream",
     "text": [
      "Session 0: 290.39 110.04\n",
      "Session 1: 492.85 317.90\n",
      "Session 2: 330.82 254.32\n",
      "Session 3: 346.95 143.08\n",
      "Session 4: 323.60 285.84\n",
      "Session 5: 184.70 130.92\n",
      "Session 6: 0.00 0.00\n",
      "Session 7: 19.80 0.00\n",
      "Session 8: 0.00 0.00\n",
      "Session 9: 482.72 222.96\n",
      "Session 10: 561.91 501.10\n",
      "Session 11: 299.81 148.38\n",
      "Session 12: 0.00 0.00\n",
      "Session 13: 34.65 36.12\n",
      "Session 14: 31.11 0.00\n",
      "Session 15: 222.92 199.81\n",
      "Session 16: 270.11 0.00\n",
      "Session 17: 271.10 322.29\n",
      "Session 18: 0.00 0.00\n",
      "Session 19: 0.00 0.00\n",
      "Session 20: 15.56 0.00\n",
      "Session 21: 804.69 24.04\n",
      "Session 22: 168.53 128.81\n",
      "Session 23: 235.47 252.72\n",
      "Session 24: 442.65 283.36\n",
      "Session 25: 2.83 0.00\n",
      "Session 26: 0.00 0.00\n",
      "Session 27: 131.24 73.52\n",
      "Session 28: 186.68 0.00\n",
      "Session 29: 465.16 270.85\n",
      "Mean of Mean: 220.54\n",
      "Mean # saccades: 3.97\n"
     ]
    }
   ],
   "source": [
    "means = []\n",
    "cmeans = []\n",
    "for idx, session in enumerate(eu_histo):\n",
    "    means.append(np.mean(session) if len(session) > 0 else 0)\n",
    "    cmeans.append(len(session))\n",
    "    print(\"Session {0}: {1:.2f} {2:.2f}\".format(idx,np.mean(session) if len(session) > 0 else 0,np.std(session) if len(session)>0 else 0))\n",
    "print(\"Mean of Mean: {0:.2f}\".format(np.mean(means)))\n",
    "print(\"Mean # saccades: {0:.2f}\".format(np.mean(cmeans)))"
   ]
  },
  {
   "cell_type": "markdown",
   "id": "0d083e33-b6ce-4c36-bbb6-2105316316e4",
   "metadata": {},
   "source": [
    "***"
   ]
  },
  {
   "cell_type": "markdown",
   "id": "510ceed3-60a9-48e7-ba5e-c369b7e83577",
   "metadata": {},
   "source": [
    "## dLib Saccade Path Statistics, Total Length, Mean and Standard Deviation Per Saccade"
   ]
  },
  {
   "cell_type": "code",
   "execution_count": 9,
   "id": "a6c3e035-5321-4625-90d7-71820b71da30",
   "metadata": {},
   "outputs": [
    {
     "name": "stdout",
     "output_type": "stream",
     "text": [
      "Session 0, Total: 1094.60; Mean: 78.19 (92.38)\n",
      "Session 1, Total: 45191.19; Mean: 223.72 (274.97)\n",
      "Session 2, Total: 1330.77; Mean: 60.49 (62.20)\n",
      "Session 3, Total: 3717.97; Mean: 161.65 (190.49)\n",
      "Session 4, Total: 6225.37; Mean: 183.10 (280.98)\n",
      "Session 5, Total: 7082.38; Mean: 186.38 (257.46)\n",
      "Session 6, Total: 2259.91; Mean: 102.72 (109.41)\n",
      "Session 7, Total: 18879.75; Mean: 224.76 (263.12)\n",
      "Session 8, Total: 1142.68; Mean: 163.24 (141.54)\n",
      "Session 9, Total: 1260.06; Mean: 126.01 (89.20)\n",
      "Session 10, Total: 1277.03; Mean: 127.70 (191.24)\n",
      "Session 11, Total: 1202.08; Mean: 85.86 (63.69)\n",
      "Session 12, Total: 7.07; Mean: 3.54 (3.54)\n",
      "Session 13, Total: 2102.94; Mean: 80.88 (81.32)\n",
      "Session 14, Total: 14620.14; Mean: 261.07 (275.11)\n",
      "Session 15, Total: 5813.83; Mean: 264.27 (322.54)\n",
      "Session 16, Total: 5062.88; Mean: 174.58 (196.32)\n",
      "Session 17, Total: 9738.27; Mean: 270.51 (304.66)\n",
      "Session 18, Total: 9687.36; Mean: 248.39 (270.67)\n",
      "Session 19, Total: 0.00; Mean: nan (nan)\n",
      "Session 20, Total: 3409.67; Mean: 213.10 (288.92)\n",
      "Session 21, Total: 5044.50; Mean: 280.25 (284.03)\n",
      "Session 22, Total: 0.00; Mean: nan (nan)\n",
      "Session 23, Total: 14014.86; Mean: 184.41 (264.58)\n",
      "Session 24, Total: 1009.75; Mean: 168.29 (180.04)\n",
      "Session 25, Total: 24252.35; Mean: 185.13 (243.75)\n",
      "Session 26, Total: 17724.34; Mean: 190.58 (238.82)\n",
      "Session 27, Total: 2896.31; Mean: 579.26 (253.30)\n",
      "Session 28, Total: 7942.22; Mean: 198.56 (205.05)\n",
      "Session 29, Total: 7250.67; Mean: 195.96 (190.63)\n",
      "Session 30, Total: 1322.29; Mean: 110.19 (84.25)\n"
     ]
    },
    {
     "name": "stderr",
     "output_type": "stream",
     "text": [
      "/Users/aroegies/scanpath/lib/python3.9/site-packages/numpy/core/fromnumeric.py:3504: RuntimeWarning: Mean of empty slice.\n",
      "  return _methods._mean(a, axis=axis, dtype=dtype,\n",
      "/Users/aroegies/scanpath/lib/python3.9/site-packages/numpy/core/_methods.py:129: RuntimeWarning: invalid value encountered in scalar divide\n",
      "  ret = ret.dtype.type(ret / rcount)\n",
      "/Users/aroegies/scanpath/lib/python3.9/site-packages/numpy/core/_methods.py:206: RuntimeWarning: Degrees of freedom <= 0 for slice\n",
      "  ret = _var(a, axis=axis, dtype=dtype, out=out, ddof=ddof,\n",
      "/Users/aroegies/scanpath/lib/python3.9/site-packages/numpy/core/_methods.py:163: RuntimeWarning: invalid value encountered in divide\n",
      "  arrmean = um.true_divide(arrmean, div, out=arrmean,\n",
      "/Users/aroegies/scanpath/lib/python3.9/site-packages/numpy/core/_methods.py:198: RuntimeWarning: invalid value encountered in scalar divide\n",
      "  ret = ret.dtype.type(ret / rcount)\n"
     ]
    }
   ],
   "source": [
    "dlib_stats = dlib_sa.saccade_path_stats()\n",
    "for d in dlib_stats:\n",
    "    print(\"Session {0}, Total: {1:.2f}; Mean: {2:.2f} ({3:.2f})\".format(d[0],d[1],d[2],d[3]))"
   ]
  },
  {
   "cell_type": "markdown",
   "id": "fc03e3fe-63a6-4c9a-bad5-69a802cce100",
   "metadata": {},
   "source": [
    "## Europeana Saccade Path Statistics, Total Length, Mean and Avg Per Saccade"
   ]
  },
  {
   "cell_type": "code",
   "execution_count": 10,
   "id": "d0ec4c19-3220-4f33-a4df-a9c463f7fc59",
   "metadata": {},
   "outputs": [
    {
     "name": "stdout",
     "output_type": "stream",
     "text": [
      "Session 0, Total: 31265.43; Mean: 250.12 (343.33)\n",
      "Session 1, Total: 6488.41; Mean: 249.55 (251.32)\n",
      "Session 2, Total: 15583.22; Mean: 236.11 (227.78)\n",
      "Session 3, Total: 3696.75; Mean: 205.38 (232.95)\n",
      "Session 4, Total: 17029.96; Mean: 173.78 (254.22)\n",
      "Session 5, Total: 7520.79; Mean: 300.83 (283.45)\n",
      "Session 6, Total: 0.00; Mean: nan (nan)\n",
      "Session 7, Total: 360.62; Mean: 32.78 (29.93)\n",
      "Session 8, Total: 3717.97; Mean: 218.70 (193.42)\n",
      "Session 9, Total: 4286.48; Mean: 285.77 (289.70)\n",
      "Session 10, Total: 14120.92; Mean: 201.73 (298.04)\n",
      "Session 11, Total: 3084.40; Mean: 162.34 (211.38)\n",
      "Session 12, Total: 10777.72; Mean: 262.87 (275.19)\n",
      "Session 13, Total: 919.24; Mean: 29.65 (29.40)\n",
      "Session 14, Total: 2063.34; Mean: 171.94 (189.76)\n",
      "Session 15, Total: 7314.31; Mean: 221.65 (374.82)\n",
      "Session 16, Total: 848.53; Mean: 53.03 (60.76)\n",
      "Session 17, Total: 28239.02; Mean: 288.15 (302.88)\n",
      "Session 18, Total: 165.46; Mean: 55.15 (17.44)\n",
      "Session 19, Total: 3972.53; Mean: 209.08 (274.79)\n",
      "Session 20, Total: 371.94; Mean: 53.13 (44.82)\n",
      "Session 21, Total: 3207.44; Mean: 356.38 (338.85)\n",
      "Session 22, Total: 18834.50; Mean: 281.11 (356.77)\n",
      "Session 23, Total: 7638.17; Mean: 332.09 (318.76)\n",
      "Session 24, Total: 17246.33; Mean: 253.62 (253.13)\n",
      "Session 25, Total: 3176.32; Mean: 352.92 (332.02)\n",
      "Session 26, Total: 0.00; Mean: nan (nan)\n",
      "Session 27, Total: 8496.60; Mean: 217.86 (216.93)\n",
      "Session 28, Total: 752.36; Mean: 125.39 (114.22)\n",
      "Session 29, Total: 16264.87; Mean: 258.17 (229.95)\n"
     ]
    }
   ],
   "source": [
    "europeana_stats = europeana_sa.saccade_path_stats()\n",
    "for d in europeana_stats:\n",
    "    print(\"Session {0}, Total: {1:.2f}; Mean: {2:.2f} ({3:.2f})\".format(d[0],d[1],d[2],d[3]))"
   ]
  },
  {
   "cell_type": "markdown",
   "id": "ba79315b-1074-48a0-9651-a02cf3127416",
   "metadata": {},
   "source": [
    "## Mean (Standard Deviation) Total Path Length Across Europeana and dLib users"
   ]
  },
  {
   "cell_type": "code",
   "execution_count": 27,
   "id": "5dc010e4-95b2-43b7-be25-b9d495d472b6",
   "metadata": {},
   "outputs": [
    {
     "name": "stdout",
     "output_type": "stream",
     "text": [
      "Europeana: 7914.79 (8249.65) Dlib: 7179.46 (9239.64)\n"
     ]
    }
   ],
   "source": [
    "europeana_sum = []\n",
    "for d in europeana_stats:\n",
    "    europeana_sum.append(d[1])\n",
    "\n",
    "dlib_sum = []\n",
    "for d in dlib_stats:\n",
    "    dlib_sum.append(d[1])\n",
    "\n",
    "print(\"Europeana: {0:.2f} ({1:.2f}) Dlib: {2:.2f} ({3:.2f})\".format(np.mean(europeana_sum),np.std(europeana_sum),np.mean(dlib_sum),np.std(dlib_sum)))"
   ]
  },
  {
   "cell_type": "markdown",
   "id": "a724f169-7683-478e-b246-7a8a8192157a",
   "metadata": {},
   "source": [
    "***"
   ]
  },
  {
   "cell_type": "markdown",
   "id": "30deba9a-7c3f-41bb-88f8-b806fb2ddf7e",
   "metadata": {},
   "source": [
    "## Europeana Participant Saccade Path Length and Number of Fixations"
   ]
  },
  {
   "cell_type": "code",
   "execution_count": 12,
   "id": "1669d819-152c-41cc-b5f4-96c229c55b37",
   "metadata": {},
   "outputs": [
    {
     "name": "stdout",
     "output_type": "stream",
     "text": [
      "Session 0, Participant 1| Total: 250.12; Fixations: 126\n",
      "Session 1, Participant 2| Total: 249.55; Fixations: 27\n",
      "Session 2, Participant 3| Total: 236.11; Fixations: 67\n",
      "Session 3, Participant 4| Total: 205.38; Fixations: 19\n",
      "Session 4, Participant 5| Total: 173.78; Fixations: 99\n",
      "Session 5, Participant 6| Total: 300.83; Fixations: 26\n",
      "Session 6, Participant 7| Total: nan; Fixations: 2\n",
      "Session 7, Participant 8| Total: 32.78; Fixations: 12\n",
      "Session 8, Participant 9| Total: 218.70; Fixations: 18\n",
      "Session 9, Participant 10| Total: 285.77; Fixations: 16\n",
      "Session 10, Participant 11| Total: 201.73; Fixations: 71\n",
      "Session 11, Participant 12| Total: 162.34; Fixations: 20\n",
      "Session 12, Participant 13| Total: 262.87; Fixations: 42\n",
      "Session 13, Participant 14| Total: 29.65; Fixations: 32\n",
      "Session 14, Participant 15| Total: 171.94; Fixations: 13\n",
      "Session 15, Participant 16| Total: 221.65; Fixations: 34\n",
      "Session 16, Participant 17| Total: 53.03; Fixations: 17\n",
      "Session 17, Participant 18| Total: 288.15; Fixations: 99\n",
      "Session 18, Participant 19| Total: 55.15; Fixations: 4\n",
      "Session 19, Participant 20| Total: 209.08; Fixations: 20\n",
      "Session 20, Participant 21| Total: 53.13; Fixations: 8\n",
      "Session 21, Participant 22| Total: 356.38; Fixations: 10\n",
      "Session 22, Participant 23| Total: 281.11; Fixations: 68\n",
      "Session 23, Participant 24| Total: 332.09; Fixations: 24\n",
      "Session 24, Participant 25| Total: 253.62; Fixations: 69\n",
      "Session 25, Participant 26| Total: 352.92; Fixations: 10\n",
      "Session 26, Participant 27| Total: nan; Fixations: 2\n",
      "Session 27, Participant 28| Total: 217.86; Fixations: 40\n",
      "Session 28, Participant 29| Total: 125.39; Fixations: 7\n",
      "Session 29, Participant 30| Total: 258.17; Fixations: 64\n"
     ]
    }
   ],
   "source": [
    "for d in europeana_stats:\n",
    "    print(\"Session {0}, Participant {3}| Total: {1:.2f}; Fixations: {2}\".format(d[0],d[2],len(europeana_sa._session_paths[d[0]]),europeana_sa.participants[d[0]]))"
   ]
  },
  {
   "cell_type": "markdown",
   "id": "91205cf3-9b74-495e-a2cf-9da2ff857b04",
   "metadata": {},
   "source": [
    "## dLib Participant Saccade Path Length and Number of Fixations"
   ]
  },
  {
   "cell_type": "code",
   "execution_count": 13,
   "id": "271d707f-7524-4700-9a06-d4ab9a1b617a",
   "metadata": {},
   "outputs": [
    {
     "name": "stdout",
     "output_type": "stream",
     "text": [
      "Session 0, Participant 1| Total: 1094.60; Fixations: 15\n",
      "Session 1, Participant 2| Total: 45191.19; Fixations: 203\n",
      "Session 2, Participant 3| Total: 1330.77; Fixations: 23\n",
      "Session 3, Participant 4| Total: 3717.97; Fixations: 24\n",
      "Session 4, Participant 5| Total: 6225.37; Fixations: 35\n",
      "Session 5, Participant 6| Total: 7082.38; Fixations: 39\n",
      "Session 6, Participant 7| Total: 2259.91; Fixations: 23\n",
      "Session 7, Participant 8| Total: 18879.75; Fixations: 85\n",
      "Session 8, Participant 9| Total: 1142.68; Fixations: 8\n",
      "Session 9, Participant 10| Total: 1260.06; Fixations: 11\n",
      "Session 10, Participant 11| Total: 1277.03; Fixations: 11\n",
      "Session 11, Participant 12| Total: 1202.08; Fixations: 15\n",
      "Session 12, Participant 13| Total: 7.07; Fixations: 3\n",
      "Session 13, Participant 14| Total: 2102.94; Fixations: 27\n",
      "Session 14, Participant 15| Total: 14620.14; Fixations: 57\n",
      "Session 15, Participant 16| Total: 5813.83; Fixations: 23\n",
      "Session 16, Participant 17| Total: 5062.88; Fixations: 30\n",
      "Session 17, Participant 18| Total: 9738.27; Fixations: 37\n",
      "Session 18, Participant 19| Total: 9687.36; Fixations: 40\n",
      "Session 19, Participant 20| Total: 0.00; Fixations: 2\n",
      "Session 20, Participant 21| Total: 3409.67; Fixations: 17\n",
      "Session 21, Participant 22| Total: 5044.50; Fixations: 19\n",
      "Session 22, Participant 23| Total: 0.00; Fixations: 2\n",
      "Session 23, Participant 23| Total: 14014.86; Fixations: 77\n",
      "Session 24, Participant 24| Total: 1009.75; Fixations: 7\n",
      "Session 25, Participant 25| Total: 24252.35; Fixations: 132\n",
      "Session 26, Participant 26| Total: 17724.34; Fixations: 94\n",
      "Session 27, Participant 27| Total: 2896.31; Fixations: 6\n",
      "Session 28, Participant 28| Total: 7942.22; Fixations: 41\n",
      "Session 29, Participant 29| Total: 7250.67; Fixations: 38\n",
      "Session 30, Participant 30| Total: 1322.29; Fixations: 13\n"
     ]
    }
   ],
   "source": [
    "for d in dlib_stats:\n",
    "    print(\"Session {0}, Participant {3}| Total: {1:.2f}; Fixations: {2}\".format(d[0],d[1],len(dlib_sa._session_paths[d[0]]),dlib_sa.participants[d[0]]))"
   ]
  },
  {
   "cell_type": "markdown",
   "id": "1677203c-5912-4753-aaa9-cf8c1a6c5722",
   "metadata": {},
   "source": [
    "***"
   ]
  },
  {
   "cell_type": "markdown",
   "id": "68f1fac9-dcbf-4ccf-94f4-6d06b97ea3ee",
   "metadata": {},
   "source": [
    "## dLib Saccade average distance between fixations and counts across sessions"
   ]
  },
  {
   "cell_type": "code",
   "execution_count": 59,
   "id": "c6b64760-93bd-4283-a5d2-a0568158d28f",
   "metadata": {},
   "outputs": [],
   "source": [
    "from collections import defaultdict\n",
    "counts = defaultdict(list)\n",
    "for d in dlib_stats:\n",
    "    for k,v in d[4].items():\n",
    "        counts[k].extend(v)"
   ]
  },
  {
   "cell_type": "code",
   "execution_count": 71,
   "id": "236a91c7-91c8-4b46-837d-42d312f93f5a",
   "metadata": {},
   "outputs": [
    {
     "name": "stdout",
     "output_type": "stream",
     "text": [
      "Avg Length: 122.67 (206.94) | Counts: 176 | Search box-Search box\n",
      "Avg Length: 166.60 (157.61) | Counts: 174 | Central text-Central text\n",
      "Avg Length: 235.41 (309.49) | Counts: 136 | Collections-Collections\n",
      "Avg Length: 177.70 (226.00) | Counts: 126 | NA-NA\n",
      "Avg Length: 151.00 (247.30) | Counts: 49 | Search box-NA\n",
      "Avg Length: 22.80 (21.65) | Counts: 48 | Material - photos-Material - photos\n",
      "Avg Length: 191.52 (284.95) | Counts: 45 | NA-Search box\n",
      "Avg Length: 147.36 (128.85) | Counts: 40 | Material - other-Material - other\n",
      "Avg Length: 414.33 (291.00) | Counts: 37 | NA-Central text\n",
      "Avg Length: 315.95 (275.70) | Counts: 27 | Central text-NA\n",
      "Avg Length: 193.07 (237.06) | Counts: 21 | Logo-Search box\n",
      "Avg Length: 44.04 (41.93) | Counts: 21 | Logo-Logo\n",
      "Avg Length: 225.68 (290.92) | Counts: 19 | News-News\n",
      "Avg Length: 264.74 (224.76) | Counts: 15 | Central text-Material - other\n",
      "Avg Length: 176.49 (134.55) | Counts: 15 | Search box-Logo\n",
      "Avg Length: 197.34 (35.00) | Counts: 13 | Material - other-Material - photos\n",
      "Avg Length: 302.64 (369.74) | Counts: 13 | Logo-NA\n",
      "Avg Length: 386.67 (360.18) | Counts: 12 | NA-Logo\n",
      "Avg Length: 345.84 (180.28) | Counts: 11 | Central text-Search box\n",
      "Avg Length: 425.96 (270.73) | Counts: 10 | Central text-Logo\n",
      "Avg Length: 242.14 (23.12) | Counts: 9 | Material - photos-Material - other\n",
      "Avg Length: 284.26 (247.80) | Counts: 9 | Material - other-Central text\n",
      "Avg Length: 123.82 (100.69) | Counts: 9 | Central text-Material - photos\n",
      "Avg Length: 765.97 (216.83) | Counts: 8 | Logo-Central text\n",
      "Avg Length: 462.45 (184.08) | Counts: 7 | Material - other-NA\n",
      "Avg Length: 255.97 (165.87) | Counts: 7 | Search box-Central text\n",
      "Avg Length: 187.69 (92.89) | Counts: 7 | Material - photos-Central text\n",
      "Avg Length: 103.24 (54.14) | Counts: 6 | NA-Material - other\n",
      "Avg Length: 259.93 (184.99) | Counts: 5 | Material - photos-NA\n",
      "Avg Length: 48.44 (39.29) | Counts: 4 | NA-News\n",
      "Avg Length: 180.67 (302.36) | Counts: 4 | News-NA\n",
      "Avg Length: 62.23 (43.13) | Counts: 4 | NA-Material - photos\n",
      "Avg Length: 469.05 (179.90) | Counts: 3 | NA-Collections\n",
      "Avg Length: 459.62 (135.54) | Counts: 3 | Collections-NA\n",
      "Avg Length: 204.12 (136.36) | Counts: 3 | News-Collections\n",
      "Avg Length: 586.90 (480.21) | Counts: 3 | NA-Menu\n",
      "Avg Length: 199.40 (100.41) | Counts: 3 | News-Material - other\n",
      "Avg Length: 236.17 (219.20) | Counts: 2 | Material - photos-News\n",
      "Avg Length: 321.03 (80.61) | Counts: 2 | Collections-News\n",
      "Avg Length: 14.85 (13.44) | Counts: 2 | Material - other-News\n",
      "Avg Length: 259.51 (170.41) | Counts: 2 | Search box-Material - other\n",
      "Avg Length: 792.67 (98.29) | Counts: 2 | Material - photos-Logo\n",
      "Avg Length: 107.48 (18.38) | Counts: 2 | Material - other-Search box\n"
     ]
    }
   ],
   "source": [
    "pairs = []\n",
    "for k,v in counts.items():\n",
    "    if len(v) <= 1:\n",
    "        continue\n",
    "    pairs.append(tuple([k,np.mean(v),np.std(v),len(v)]))\n",
    "pairs = sorted(pairs,key = lambda x: x[3],reverse=True)\n",
    "for elt in pairs:\n",
    "    print(\"Avg Length: {0:.2f} ({1:.2f}) | Counts: {2} | {3}\".format(elt[1],elt[2],elt[3],elt[0]))"
   ]
  },
  {
   "cell_type": "markdown",
   "id": "e4cdeafb-681b-49af-bcd3-3ed618c50598",
   "metadata": {},
   "source": [
    "## Europeana Saccade average distance between fixations and counts across sessions"
   ]
  },
  {
   "cell_type": "code",
   "execution_count": 72,
   "id": "1b427348-bf86-42d0-a08a-f046ba81301b",
   "metadata": {},
   "outputs": [],
   "source": [
    "ecounts = defaultdict(list)\n",
    "for d in europeana_stats:\n",
    "    for k,v in d[4].items():\n",
    "        ecounts[k].extend(v)\n"
   ]
  },
  {
   "cell_type": "code",
   "execution_count": 73,
   "id": "9a8135bf-bbbd-422e-bad2-d709c4212c4f",
   "metadata": {},
   "outputs": [
    {
     "name": "stdout",
     "output_type": "stream",
     "text": [
      "Avg Length: 165.34 (222.63) | Counts: 250 | AOI[Search box]Hit-AOI[Search box]Hit\n",
      "Avg Length: 224.79 (301.35) | Counts: 175 | AOI[Other collections]Hit-AOI[Other collections]Hit\n",
      "Avg Length: 186.52 (195.66) | Counts: 56 | AOI[Central text]Hit-AOI[Central text]Hit\n",
      "Avg Length: 199.43 (308.73) | Counts: 53 | AOI[Background image]Hit-AOI[Background image]Hit\n",
      "Avg Length: 260.01 (242.86) | Counts: 48 | AOI[Central text]Hit-AOI[Search box]Hit\n",
      "Avg Length: 164.77 (193.30) | Counts: 47 | AOI[Search box]Hit-AOI[Central text]Hit\n",
      "Avg Length: 30.30 (23.56) | Counts: 47 | AOI[Browse]Hit-AOI[Browse]Hit\n",
      "Avg Length: 76.29 (75.54) | Counts: 37 | AOI[1st WW collection]Hit-AOI[1st WW collection]Hit\n",
      "Avg Length: 278.09 (292.89) | Counts: 36 | AOI[Background image]Hit-AOI[Search box]Hit\n",
      "Avg Length: 251.33 (240.74) | Counts: 32 | AOI[Search box]Hit-AOI[Background image]Hit\n",
      "Avg Length: 268.50 (293.63) | Counts: 21 | AOI[Search box]Hit-AOI[Browse]Hit\n",
      "Avg Length: 509.38 (210.69) | Counts: 16 | AOI[1st WW collection]Hit-AOI[Other collections]Hit\n",
      "Avg Length: 365.06 (326.97) | Counts: 15 | AOI[Background image]Hit-AOI[Central text]Hit\n",
      "Avg Length: 497.80 (309.70) | Counts: 14 | AOI[Browse]Hit-AOI[Search box]Hit\n",
      "Avg Length: 580.13 (362.20) | Counts: 14 | AOI[Other collections]Hit-AOI[1st WW collection]Hit\n",
      "Avg Length: 298.94 (347.85) | Counts: 13 | AOI[News]Hit-AOI[News]Hit\n",
      "Avg Length: 417.51 (226.51) | Counts: 9 | AOI[Other collections]Hit-AOI[Background image]Hit\n",
      "Avg Length: 272.79 (275.17) | Counts: 9 | AOI[Central text]Hit-AOI[Background image]Hit\n",
      "Avg Length: 200.41 (246.67) | Counts: 7 | NA-AOI[Search box]Hit\n",
      "Avg Length: 286.14 (274.70) | Counts: 6 | AOI[Background image]Hit-AOI[Other collections]Hit\n",
      "Avg Length: 60.81 (49.00) | Counts: 6 | AOI[Logo]Hit-AOI[Logo]Hit\n",
      "Avg Length: 300.66 (461.26) | Counts: 5 | AOI[Other collections]Hit-AOI[News]Hit\n",
      "Avg Length: 490.45 (210.12) | Counts: 5 | AOI[Other collections]Hit-AOI[Search box]Hit\n",
      "Avg Length: 199.69 (198.78) | Counts: 5 | AOI[Background image]Hit-AOI[1st WW collection]Hit\n",
      "Avg Length: 298.12 (193.46) | Counts: 5 | AOI[Background image]Hit-NA\n",
      "Avg Length: 503.46 (771.68) | Counts: 5 | NA-AOI[Background image]Hit\n",
      "Avg Length: 536.84 (783.50) | Counts: 5 | AOI[Logo]Hit-AOI[Background image]Hit\n",
      "Avg Length: 282.56 (198.86) | Counts: 5 | AOI[1st WW collection]Hit-AOI[Background image]Hit\n",
      "Avg Length: 488.26 (121.98) | Counts: 4 | AOI[Search box]Hit-AOI[Logo]Hit\n",
      "Avg Length: 625.79 (153.31) | Counts: 4 | AOI[Logo]Hit-AOI[Search box]Hit\n",
      "Avg Length: 312.54 (269.22) | Counts: 4 | AOI[Search box]Hit-NA\n",
      "Avg Length: 610.94 (293.72) | Counts: 4 | AOI[Search box]Hit-AOI[Other collections]Hit\n",
      "Avg Length: 438.41 (375.88) | Counts: 4 | AOI[Browse]Hit-AOI[Central text]Hit\n",
      "Avg Length: 234.41 (285.91) | Counts: 4 | NA-NA\n",
      "Avg Length: 84.50 (64.28) | Counts: 4 | AOI[Menu1]Hit-AOI[Menu1]Hit\n",
      "Avg Length: 301.70 (51.97) | Counts: 3 | AOI[Menu1]Hit-AOI[Search box]Hit\n",
      "Avg Length: 142.84 (55.37) | Counts: 3 | AOI[News]Hit-AOI[Other collections]Hit\n",
      "Avg Length: 287.09 (283.03) | Counts: 3 | AOI[Browse]Hit-AOI[Background image]Hit\n",
      "Avg Length: 590.20 (268.22) | Counts: 3 | AOI[Central text]Hit-AOI[Other collections]Hit\n",
      "Avg Length: 333.75 (37.43) | Counts: 3 | NA-AOI[Other collections]Hit\n",
      "Avg Length: 340.35 (259.42) | Counts: 3 | AOI[Other collections]Hit-AOI[Central text]Hit\n",
      "Avg Length: 198.46 (55.21) | Counts: 3 | AOI[Search box]Hit-AOI[Menu1]Hit\n",
      "Avg Length: 625.55 (101.57) | Counts: 3 | AOI[Search box]Hit-AOI[1st WW collection]Hit\n",
      "Avg Length: 274.36 (248.90) | Counts: 2 | AOI[Background image]Hit-AOI[Menu1]Hit\n",
      "Avg Length: 480.13 (402.34) | Counts: 2 | AOI[Central text]Hit-AOI[Browse]Hit\n",
      "Avg Length: 168.29 (156.98) | Counts: 2 | AOI[Background image]Hit-AOI[Browse]Hit\n",
      "Avg Length: 10.61 (0.71) | Counts: 2 | AOI[News]Hit-NA\n",
      "Avg Length: 119.50 (91.22) | Counts: 2 | NA-AOI[About]Hit\n",
      "Avg Length: 118.09 (79.90) | Counts: 2 | AOI[Other collections]Hit-NA\n",
      "Avg Length: 211.42 (102.53) | Counts: 2 | AOI[Background image]Hit-AOI[Logo]Hit\n",
      "Avg Length: 355.67 (342.95) | Counts: 2 | AOI[Central text]Hit-AOI[1st WW collection]Hit\n",
      "Avg Length: 213.55 (7.07) | Counts: 2 | AOI[Menu1]Hit-AOI[Logo]Hit\n",
      "Avg Length: 485.08 (185.26) | Counts: 2 | AOI[1st WW collection]Hit-NA\n",
      "Avg Length: 486.49 (188.09) | Counts: 2 | AOI[Central text]Hit-NA\n"
     ]
    }
   ],
   "source": [
    "pairs = []\n",
    "for k,v in ecounts.items():\n",
    "    if len(v) <= 1:\n",
    "        continue\n",
    "    pairs.append(tuple([k,np.mean(v),np.std(v),len(v)]))\n",
    "pairs = sorted(pairs,key = lambda x: x[3],reverse=True)\n",
    "for elt in pairs:\n",
    "    print(\"Avg Length: {0:.2f} ({1:.2f}) | Counts: {2} | {3}\".format(elt[1],elt[2],elt[3],elt[0]))"
   ]
  },
  {
   "cell_type": "markdown",
   "id": "23c00b8f-fe22-4ab0-bc02-f5b8e3fc40cb",
   "metadata": {},
   "source": [
    "***"
   ]
  },
  {
   "cell_type": "markdown",
   "id": "b46b4539-fb20-4587-964d-8d2b9ab6d8e6",
   "metadata": {},
   "source": [
    "# dLib and Europeana Normalized Dwell Time Mean and Standard Deviation across Sessions"
   ]
  },
  {
   "cell_type": "code",
   "execution_count": 14,
   "id": "e12eccdb-8d24-4c83-9a9b-70007c8fdab9",
   "metadata": {},
   "outputs": [],
   "source": [
    "dlibpa = PathAnalyzer(xlsx_file='dlb-trial.xlsx')"
   ]
  },
  {
   "cell_type": "code",
   "execution_count": 102,
   "id": "c3ebd2b8-64ee-438f-b584-6ffb095cfd31",
   "metadata": {},
   "outputs": [
    {
     "name": "stderr",
     "output_type": "stream",
     "text": [
      "/Users/aroegies/scanpath/lib/python3.9/site-packages/openpyxl/styles/stylesheet.py:226: UserWarning: Workbook contains no default style, apply openpyxl's default\n",
      "  warn(\"Workbook contains no default style, apply openpyxl's default\")\n"
     ]
    }
   ],
   "source": [
    "europa = PathAnalyzer(xlsx_file='europeana-trial.xlsx')"
   ]
  },
  {
   "cell_type": "code",
   "execution_count": 103,
   "id": "0fbc9cca-648c-4748-8891-35c920f31ed3",
   "metadata": {},
   "outputs": [],
   "source": [
    "dlib_dwells = dlibpa.scan_path_dwell()"
   ]
  },
  {
   "cell_type": "code",
   "execution_count": 104,
   "id": "891643d4-0bf1-4f30-8cc0-541a9df3a331",
   "metadata": {},
   "outputs": [],
   "source": [
    "euro_dwells = europa.scan_path_dwell()"
   ]
  },
  {
   "cell_type": "code",
   "execution_count": 105,
   "id": "4ce5f047-3887-42f9-a7a7-94a3754dc2e9",
   "metadata": {},
   "outputs": [
    {
     "name": "stdout",
     "output_type": "stream",
     "text": [
      "=========DLIB=========\n",
      "Logo: 0.06 (0.06)\n",
      "Search box: 0.30 (0.28)\n",
      "Menu: 0.00 (0.01)\n",
      "Central text: 0.20 (0.17)\n",
      "Collections: 0.03 (0.11)\n",
      "Publications: 0.00 (0.00)\n",
      "News: 0.01 (0.02)\n",
      "Material - other: 0.04 (0.07)\n",
      "Material - photos: 0.12 (0.24)\n",
      "NA: 0.23 (0.23)\n",
      "=========EUROPEANA=========\n",
      "AOI[Logo]Hit: 0.01 (0.03)\n",
      "AOI[Menu1]Hit: 0.01 (0.02)\n",
      "AOI[Menu2]Hit: 0.00 (0.01)\n",
      "AOI[Search box]Hit: 0.44 (0.31)\n",
      "AOI[Central text]Hit: 0.16 (0.15)\n",
      "AOI[Browse]Hit: 0.04 (0.11)\n",
      "AOI[1st WW collection]Hit: 0.08 (0.23)\n",
      "AOI[Other collections]Hit: 0.12 (0.25)\n",
      "AOI[News]Hit: 0.01 (0.02)\n",
      "AOI[About]Hit: 0.00 (0.00)\n",
      "AOI[Background image]Hit: 0.12 (0.20)\n",
      "NA: 0.01 (0.02)\n"
     ]
    }
   ],
   "source": [
    "dlib_dwells_agg = defaultdict(list)\n",
    "euro_dwells_agg = defaultdict(list)\n",
    "for dwells in dlib_dwells:\n",
    "    for k,v in dwells:\n",
    "        dlib_dwells_agg[k].append(v)\n",
    "\n",
    "for dwells in euro_dwells:\n",
    "    for k,v in dwells:\n",
    "        euro_dwells_agg[k].append(v)\n",
    "        \n",
    "print(\"=========DLIB=========\")\n",
    "for k,v in dlib_dwells_agg.items():\n",
    "    print(\"{0}: {1:.2f} ({2:.2f})\".format(k, np.mean(v), np.std(v)))\n",
    "print(\"=========EUROPEANA=========\")\n",
    "for k,v in euro_dwells_agg.items():\n",
    "    print(\"{0}: {1:.2f} ({2:.2f})\".format(k, np.mean(v), np.std(v)))\n"
   ]
  },
  {
   "cell_type": "markdown",
   "id": "7618de2c-4fc9-44a3-bbac-cb5ad0555f13",
   "metadata": {},
   "source": [
    "***"
   ]
  },
  {
   "cell_type": "markdown",
   "id": "37808bcf-90b5-49a3-abba-8e67f4a6f4b6",
   "metadata": {},
   "source": [
    "## dLib and Europeana Aggregate Saccade Path Distance to First Occurrence of Each AoI, mean and standard deviation"
   ]
  },
  {
   "cell_type": "code",
   "execution_count": 123,
   "id": "d5ab86d2-0ed5-48f5-81eb-0dfd27fef3cb",
   "metadata": {},
   "outputs": [
    {
     "name": "stdout",
     "output_type": "stream",
     "text": [
      "=======DLIB======\n",
      "Material - other: 3904.41 (4536.88)\n",
      "Material - photos: 8047.11 (12128.95)\n",
      "News: 6501.14 (5339.62)\n",
      "Central text: 729.49 (762.60)\n",
      "NA: 1353.58 (1103.19)\n",
      "Logo: 2947.63 (3734.45)\n",
      "Collections: 6904.66 (3491.18)\n",
      "Search box: 1869.53 (3263.61)\n",
      "Menu: 6952.27 (3227.20)\n",
      "=======DLIB======\n",
      "AOI[Other collections]Hit: 2797.79 (1931.13)\n",
      "AOI[Background image]Hit: 2143.65 (2005.33)\n",
      "AOI[Menu1]Hit: 4374.16 (4590.04)\n",
      "AOI[Search box]Hit: 542.04 (691.95)\n",
      "AOI[Central text]Hit: 1876.54 (3122.28)\n",
      "AOI[Browse]Hit: 4600.32 (4965.04)\n",
      "AOI[1st WW collection]Hit: 4154.42 (2409.06)\n",
      "AOI[News]Hit: 13729.19 (8665.62)\n",
      "AOI[Logo]Hit: 8253.96 (8507.76)\n",
      "NA: 4468.63 (3314.01)\n",
      "AOI[About]Hit: 12718.73 (5367.65)\n",
      "AOI[Menu2]Hit: 6856.11 (0.00)\n"
     ]
    }
   ],
   "source": [
    "dlib_firsts = dlib.first_saccade_distance()\n",
    "dlib_first_aggs = defaultdict(list)\n",
    "for session in dlib_firsts:\n",
    "    for k,v in session.items():\n",
    "        dlib_first_aggs[k].append(v)\n",
    "\n",
    "print(\"=======DLIB======\")\n",
    "for k,v in dlib_first_aggs.items():\n",
    "    print(\"{0}: {1:.2f} ({2:.2f})\".format(k,np.mean(v),np.std(v)))\n",
    "\n",
    "euro_firsts = europeana.first_saccade_distance()\n",
    "euro_first_aggs = defaultdict(list)\n",
    "for session in euro_firsts:\n",
    "    for k,v in session.items():\n",
    "        euro_first_aggs[k].append(v)\n",
    "\n",
    "print(\"=======DLIB======\")\n",
    "for k,v in euro_first_aggs.items():\n",
    "    print(\"{0}: {1:.2f} ({2:.2f})\".format(k,np.mean(v),np.std(v)))"
   ]
  },
  {
   "cell_type": "code",
   "execution_count": null,
   "id": "2c633394-22e8-48a1-8a00-f703e9bb71d6",
   "metadata": {},
   "outputs": [],
   "source": []
  }
 ],
 "metadata": {
  "kernelspec": {
   "display_name": "Python 3 (ipykernel)",
   "language": "python",
   "name": "python3"
  },
  "language_info": {
   "codemirror_mode": {
    "name": "ipython",
    "version": 3
   },
   "file_extension": ".py",
   "mimetype": "text/x-python",
   "name": "python",
   "nbconvert_exporter": "python",
   "pygments_lexer": "ipython3",
   "version": "3.9.16"
  }
 },
 "nbformat": 4,
 "nbformat_minor": 5
}
